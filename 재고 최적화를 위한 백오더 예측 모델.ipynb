{
 "cells": [
  {
   "cell_type": "code",
   "execution_count": null,
   "metadata": {
    "colab": {
     "base_uri": "https://localhost:8080/"
    },
    "id": "o9UKXusEQ_tK",
    "outputId": "05c8c9e3-6211-441f-eb71-3f06fa5ef487"
   },
   "outputs": [
    {
     "name": "stdout",
     "output_type": "stream",
     "text": [
      "Reading package lists... Done\n",
      "Building dependency tree... Done\n",
      "Reading state information... Done\n",
      "The following NEW packages will be installed:\n",
      "  fonts-nanum\n",
      "0 upgraded, 1 newly installed, 0 to remove and 30 not upgraded.\n",
      "Need to get 10.3 MB of archives.\n",
      "After this operation, 34.1 MB of additional disk space will be used.\n",
      "Get:1 http://archive.ubuntu.com/ubuntu jammy/universe amd64 fonts-nanum all 20200506-1 [10.3 MB]\n",
      "Fetched 10.3 MB in 1s (11.4 MB/s)\n",
      "debconf: unable to initialize frontend: Dialog\n",
      "debconf: (No usable dialog-like program is installed, so the dialog based frontend cannot be used. at /usr/share/perl5/Debconf/FrontEnd/Dialog.pm line 78, <> line 1.)\n",
      "debconf: falling back to frontend: Readline\n",
      "debconf: unable to initialize frontend: Readline\n",
      "debconf: (This frontend requires a controlling tty.)\n",
      "debconf: falling back to frontend: Teletype\n",
      "dpkg-preconfigure: unable to re-open stdin: \n",
      "Selecting previously unselected package fonts-nanum.\n",
      "(Reading database ... 121658 files and directories currently installed.)\n",
      "Preparing to unpack .../fonts-nanum_20200506-1_all.deb ...\n",
      "Unpacking fonts-nanum (20200506-1) ...\n",
      "Setting up fonts-nanum (20200506-1) ...\n",
      "Processing triggers for fontconfig (2.13.1-4.2ubuntu5) ...\n",
      "/usr/share/fonts: caching, new cache contents: 0 fonts, 1 dirs\n",
      "/usr/share/fonts/truetype: caching, new cache contents: 0 fonts, 3 dirs\n",
      "/usr/share/fonts/truetype/humor-sans: caching, new cache contents: 1 fonts, 0 dirs\n",
      "/usr/share/fonts/truetype/liberation: caching, new cache contents: 16 fonts, 0 dirs\n",
      "/usr/share/fonts/truetype/nanum: caching, new cache contents: 12 fonts, 0 dirs\n",
      "/usr/local/share/fonts: caching, new cache contents: 0 fonts, 0 dirs\n",
      "/root/.local/share/fonts: skipping, no such directory\n",
      "/root/.fonts: skipping, no such directory\n",
      "/usr/share/fonts/truetype: skipping, looped directory detected\n",
      "/usr/share/fonts/truetype/humor-sans: skipping, looped directory detected\n",
      "/usr/share/fonts/truetype/liberation: skipping, looped directory detected\n",
      "/usr/share/fonts/truetype/nanum: skipping, looped directory detected\n",
      "/var/cache/fontconfig: cleaning cache directory\n",
      "/root/.cache/fontconfig: not cleaning non-existent cache directory\n",
      "/root/.fontconfig: not cleaning non-existent cache directory\n",
      "fc-cache: succeeded\n"
     ]
    }
   ],
   "source": [
    "!sudo apt-get install -y fonts-nanum\n",
    "!sudo fc-cache -fv\n",
    "!rm ~/.cache/matplotlib -rf"
   ]
  },
  {
   "cell_type": "code",
   "execution_count": null,
   "metadata": {
    "id": "ytRJgJDWgC9n"
   },
   "outputs": [],
   "source": [
    "import pandas as pd\n",
    "import numpy as np\n",
    "import matplotlib.pyplot as plt\n",
    "\n",
    "plt.rc('font', family='NanumBarunGothic')"
   ]
  },
  {
   "cell_type": "code",
   "execution_count": null,
   "metadata": {
    "id": "amivg-p-7RYX"
   },
   "outputs": [],
   "source": [
    "def seed_everything(seed: int = 42):\n",
    "    random.seed(seed)\n",
    "    np.random.seed(seed)\n",
    "    os.environ[\"PYTHONHASHSEED\"] = str(seed)\n",
    "    torch.manual_seed(seed)\n",
    "    torch.cuda.manual_seed(seed)  # type: ignore\n",
    "    torch.backends.cudnn.deterministic = True  # type: ignore\n",
    "    torch.backends.cudnn.benchmark = True  # type: ignore"
   ]
  },
  {
   "cell_type": "code",
   "execution_count": null,
   "metadata": {
    "id": "j3F8Z2dn7TxQ"
   },
   "outputs": [],
   "source": [
    "seed_everything(config.seed)"
   ]
  },
  {
   "cell_type": "code",
   "execution_count": null,
   "metadata": {
    "id": "ls8W953gRDpQ"
   },
   "outputs": [],
   "source": [
    "df=pd.read_csv('/content/drive/MyDrive/Colab Notebooks/Future_Problem/total_data.csv')"
   ]
  },
  {
   "cell_type": "markdown",
   "metadata": {
    "id": "t_8f1ALoEgXd"
   },
   "source": [
    "재무데이터만"
   ]
  },
  {
   "cell_type": "code",
   "execution_count": null,
   "metadata": {
    "id": "BxUB9u-mEfDR"
   },
   "outputs": [],
   "source": [
    "df1 = df[['마감일', '매출액', '매출원가', '판매비와관리비', '영업이익', '재고자산회전율', '유동비율', '당좌비율',\n",
    "       '당기순이익', '수요예측지표', '세전이익대비_비용비율', '부채비율', '자본회전율', '현금비율', '순운전자본',\n",
    "       '부채총계대매출액', '명목GDP', 'GDP성장률', 'year', '생산량(천대)', '내수(천대)', '수출(억불)',\n",
    "       '수입(억불)', '분기', 'Model', '판매량', '차종', '가격', '판매액', '차량별 매출액 기여도',\n",
    "       '차량별 매출원가 기여도', '차량별 영업이익 기여도', '차량별 판관비 기여도','target']].copy()"
   ]
  },
  {
   "cell_type": "code",
   "execution_count": null,
   "metadata": {
    "colab": {
     "base_uri": "https://localhost:8080/"
    },
    "id": "cjoDdcgSEfYx",
    "outputId": "f8761881-08b6-43a3-cb7b-a5903a825dd0"
   },
   "outputs": [
    {
     "data": {
      "text/plain": [
       "Index(['마감일', '매출액', '매출원가', '판매비와관리비', '영업이익', '재고자산회전율', '유동비율', '당좌비율',\n",
       "       '당기순이익', '수요예측지표', '세전이익대비_비용비율', '부채비율', '자본회전율', '현금비율', '순운전자본',\n",
       "       '부채총계대매출액', '명목GDP', 'GDP성장률', 'year', '생산량(천대)', '내수(천대)', '수출(억불)',\n",
       "       '수입(억불)', '분기', 'Model', '판매량', '차종', '가격', '판매액', '차량별 매출액 기여도',\n",
       "       '차량별 매출원가 기여도', '차량별 영업이익 기여도', '차량별 판관비 기여도', 'target'],\n",
       "      dtype='object')"
      ]
     },
     "execution_count": 33,
     "metadata": {},
     "output_type": "execute_result"
    }
   ],
   "source": [
    "df1.columns"
   ]
  },
  {
   "cell_type": "code",
   "execution_count": null,
   "metadata": {
    "colab": {
     "base_uri": "https://localhost:8080/",
     "height": 312
    },
    "id": "AhPrL4ftRYPz",
    "outputId": "7f0d8a2f-58e8-4b1a-c29b-f917b56a5373"
   },
   "outputs": [
    {
     "data": {
      "text/html": [
       "\n",
       "  <div id=\"df-f72c51cd-2a03-4801-8389-10022a1e3f20\" class=\"colab-df-container\">\n",
       "    <div>\n",
       "<style scoped>\n",
       "    .dataframe tbody tr th:only-of-type {\n",
       "        vertical-align: middle;\n",
       "    }\n",
       "\n",
       "    .dataframe tbody tr th {\n",
       "        vertical-align: top;\n",
       "    }\n",
       "\n",
       "    .dataframe thead th {\n",
       "        text-align: right;\n",
       "    }\n",
       "</style>\n",
       "<table border=\"1\" class=\"dataframe\">\n",
       "  <thead>\n",
       "    <tr style=\"text-align: right;\">\n",
       "      <th></th>\n",
       "      <th>마감일</th>\n",
       "      <th>매출액</th>\n",
       "      <th>매출원가</th>\n",
       "      <th>판매비와관리비</th>\n",
       "      <th>영업이익</th>\n",
       "      <th>재고자산회전율</th>\n",
       "      <th>유동비율</th>\n",
       "      <th>당좌비율</th>\n",
       "      <th>당기순이익</th>\n",
       "      <th>수요예측지표</th>\n",
       "      <th>...</th>\n",
       "      <th>Model</th>\n",
       "      <th>판매량</th>\n",
       "      <th>차종</th>\n",
       "      <th>가격</th>\n",
       "      <th>판매액</th>\n",
       "      <th>차량별 매출액 기여도</th>\n",
       "      <th>차량별 매출원가 기여도</th>\n",
       "      <th>차량별 영업이익 기여도</th>\n",
       "      <th>차량별 판관비 기여도</th>\n",
       "      <th>target</th>\n",
       "    </tr>\n",
       "  </thead>\n",
       "  <tbody>\n",
       "    <tr>\n",
       "      <th>0</th>\n",
       "      <td>2023-03-31</td>\n",
       "      <td>37778693000000</td>\n",
       "      <td>30056680000000</td>\n",
       "      <td>4129314000000</td>\n",
       "      <td>3592699000000</td>\n",
       "      <td>2.250297</td>\n",
       "      <td>1.325627</td>\n",
       "      <td>1.106406</td>\n",
       "      <td>-3293248000000</td>\n",
       "      <td>-0.195916</td>\n",
       "      <td>...</td>\n",
       "      <td>2023_1분기_그랜저</td>\n",
       "      <td>16400.0</td>\n",
       "      <td>그랜저</td>\n",
       "      <td>37430000</td>\n",
       "      <td>6.138520e+11</td>\n",
       "      <td>0.016249</td>\n",
       "      <td>0.020423</td>\n",
       "      <td>0.170861</td>\n",
       "      <td>0.148657</td>\n",
       "      <td>1</td>\n",
       "    </tr>\n",
       "    <tr>\n",
       "      <th>1</th>\n",
       "      <td>2023-06-30</td>\n",
       "      <td>42249695000000</td>\n",
       "      <td>33356309000000</td>\n",
       "      <td>4655455000000</td>\n",
       "      <td>4237931000000</td>\n",
       "      <td>2.426441</td>\n",
       "      <td>1.337885</td>\n",
       "      <td>1.107824</td>\n",
       "      <td>-3603870000000</td>\n",
       "      <td>-0.206938</td>\n",
       "      <td>...</td>\n",
       "      <td>2023_2분기_그랜저</td>\n",
       "      <td>13514.0</td>\n",
       "      <td>그랜저</td>\n",
       "      <td>37430000</td>\n",
       "      <td>5.058290e+11</td>\n",
       "      <td>0.011972</td>\n",
       "      <td>0.015164</td>\n",
       "      <td>0.119358</td>\n",
       "      <td>0.108653</td>\n",
       "      <td>1</td>\n",
       "    </tr>\n",
       "    <tr>\n",
       "      <th>2</th>\n",
       "      <td>2023-09-30</td>\n",
       "      <td>41002663000000</td>\n",
       "      <td>32541305000000</td>\n",
       "      <td>4639559000000</td>\n",
       "      <td>3821799000000</td>\n",
       "      <td>2.280985</td>\n",
       "      <td>1.377631</td>\n",
       "      <td>1.132773</td>\n",
       "      <td>-3017161000000</td>\n",
       "      <td>-0.167845</td>\n",
       "      <td>...</td>\n",
       "      <td>2023_3분기_그랜저</td>\n",
       "      <td>10410.0</td>\n",
       "      <td>그랜저</td>\n",
       "      <td>37430000</td>\n",
       "      <td>3.896463e+11</td>\n",
       "      <td>0.009503</td>\n",
       "      <td>0.011974</td>\n",
       "      <td>0.101954</td>\n",
       "      <td>0.083983</td>\n",
       "      <td>1</td>\n",
       "    </tr>\n",
       "  </tbody>\n",
       "</table>\n",
       "<p>3 rows × 34 columns</p>\n",
       "</div>\n",
       "    <div class=\"colab-df-buttons\">\n",
       "\n",
       "  <div class=\"colab-df-container\">\n",
       "    <button class=\"colab-df-convert\" onclick=\"convertToInteractive('df-f72c51cd-2a03-4801-8389-10022a1e3f20')\"\n",
       "            title=\"Convert this dataframe to an interactive table.\"\n",
       "            style=\"display:none;\">\n",
       "\n",
       "  <svg xmlns=\"http://www.w3.org/2000/svg\" height=\"24px\" viewBox=\"0 -960 960 960\">\n",
       "    <path d=\"M120-120v-720h720v720H120Zm60-500h600v-160H180v160Zm220 220h160v-160H400v160Zm0 220h160v-160H400v160ZM180-400h160v-160H180v160Zm440 0h160v-160H620v160ZM180-180h160v-160H180v160Zm440 0h160v-160H620v160Z\"/>\n",
       "  </svg>\n",
       "    </button>\n",
       "\n",
       "  <style>\n",
       "    .colab-df-container {\n",
       "      display:flex;\n",
       "      gap: 12px;\n",
       "    }\n",
       "\n",
       "    .colab-df-convert {\n",
       "      background-color: #E8F0FE;\n",
       "      border: none;\n",
       "      border-radius: 50%;\n",
       "      cursor: pointer;\n",
       "      display: none;\n",
       "      fill: #1967D2;\n",
       "      height: 32px;\n",
       "      padding: 0 0 0 0;\n",
       "      width: 32px;\n",
       "    }\n",
       "\n",
       "    .colab-df-convert:hover {\n",
       "      background-color: #E2EBFA;\n",
       "      box-shadow: 0px 1px 2px rgba(60, 64, 67, 0.3), 0px 1px 3px 1px rgba(60, 64, 67, 0.15);\n",
       "      fill: #174EA6;\n",
       "    }\n",
       "\n",
       "    .colab-df-buttons div {\n",
       "      margin-bottom: 4px;\n",
       "    }\n",
       "\n",
       "    [theme=dark] .colab-df-convert {\n",
       "      background-color: #3B4455;\n",
       "      fill: #D2E3FC;\n",
       "    }\n",
       "\n",
       "    [theme=dark] .colab-df-convert:hover {\n",
       "      background-color: #434B5C;\n",
       "      box-shadow: 0px 1px 3px 1px rgba(0, 0, 0, 0.15);\n",
       "      filter: drop-shadow(0px 1px 2px rgba(0, 0, 0, 0.3));\n",
       "      fill: #FFFFFF;\n",
       "    }\n",
       "  </style>\n",
       "\n",
       "    <script>\n",
       "      const buttonEl =\n",
       "        document.querySelector('#df-f72c51cd-2a03-4801-8389-10022a1e3f20 button.colab-df-convert');\n",
       "      buttonEl.style.display =\n",
       "        google.colab.kernel.accessAllowed ? 'block' : 'none';\n",
       "\n",
       "      async function convertToInteractive(key) {\n",
       "        const element = document.querySelector('#df-f72c51cd-2a03-4801-8389-10022a1e3f20');\n",
       "        const dataTable =\n",
       "          await google.colab.kernel.invokeFunction('convertToInteractive',\n",
       "                                                    [key], {});\n",
       "        if (!dataTable) return;\n",
       "\n",
       "        const docLinkHtml = 'Like what you see? Visit the ' +\n",
       "          '<a target=\"_blank\" href=https://colab.research.google.com/notebooks/data_table.ipynb>data table notebook</a>'\n",
       "          + ' to learn more about interactive tables.';\n",
       "        element.innerHTML = '';\n",
       "        dataTable['output_type'] = 'display_data';\n",
       "        await google.colab.output.renderOutput(dataTable, element);\n",
       "        const docLink = document.createElement('div');\n",
       "        docLink.innerHTML = docLinkHtml;\n",
       "        element.appendChild(docLink);\n",
       "      }\n",
       "    </script>\n",
       "  </div>\n",
       "\n",
       "\n",
       "<div id=\"df-75405088-9996-4fbc-ab94-33059b5568f4\">\n",
       "  <button class=\"colab-df-quickchart\" onclick=\"quickchart('df-75405088-9996-4fbc-ab94-33059b5568f4')\"\n",
       "            title=\"Suggest charts\"\n",
       "            style=\"display:none;\">\n",
       "\n",
       "<svg xmlns=\"http://www.w3.org/2000/svg\" height=\"24px\"viewBox=\"0 0 24 24\"\n",
       "     width=\"24px\">\n",
       "    <g>\n",
       "        <path d=\"M19 3H5c-1.1 0-2 .9-2 2v14c0 1.1.9 2 2 2h14c1.1 0 2-.9 2-2V5c0-1.1-.9-2-2-2zM9 17H7v-7h2v7zm4 0h-2V7h2v10zm4 0h-2v-4h2v4z\"/>\n",
       "    </g>\n",
       "</svg>\n",
       "  </button>\n",
       "\n",
       "<style>\n",
       "  .colab-df-quickchart {\n",
       "      --bg-color: #E8F0FE;\n",
       "      --fill-color: #1967D2;\n",
       "      --hover-bg-color: #E2EBFA;\n",
       "      --hover-fill-color: #174EA6;\n",
       "      --disabled-fill-color: #AAA;\n",
       "      --disabled-bg-color: #DDD;\n",
       "  }\n",
       "\n",
       "  [theme=dark] .colab-df-quickchart {\n",
       "      --bg-color: #3B4455;\n",
       "      --fill-color: #D2E3FC;\n",
       "      --hover-bg-color: #434B5C;\n",
       "      --hover-fill-color: #FFFFFF;\n",
       "      --disabled-bg-color: #3B4455;\n",
       "      --disabled-fill-color: #666;\n",
       "  }\n",
       "\n",
       "  .colab-df-quickchart {\n",
       "    background-color: var(--bg-color);\n",
       "    border: none;\n",
       "    border-radius: 50%;\n",
       "    cursor: pointer;\n",
       "    display: none;\n",
       "    fill: var(--fill-color);\n",
       "    height: 32px;\n",
       "    padding: 0;\n",
       "    width: 32px;\n",
       "  }\n",
       "\n",
       "  .colab-df-quickchart:hover {\n",
       "    background-color: var(--hover-bg-color);\n",
       "    box-shadow: 0 1px 2px rgba(60, 64, 67, 0.3), 0 1px 3px 1px rgba(60, 64, 67, 0.15);\n",
       "    fill: var(--button-hover-fill-color);\n",
       "  }\n",
       "\n",
       "  .colab-df-quickchart-complete:disabled,\n",
       "  .colab-df-quickchart-complete:disabled:hover {\n",
       "    background-color: var(--disabled-bg-color);\n",
       "    fill: var(--disabled-fill-color);\n",
       "    box-shadow: none;\n",
       "  }\n",
       "\n",
       "  .colab-df-spinner {\n",
       "    border: 2px solid var(--fill-color);\n",
       "    border-color: transparent;\n",
       "    border-bottom-color: var(--fill-color);\n",
       "    animation:\n",
       "      spin 1s steps(1) infinite;\n",
       "  }\n",
       "\n",
       "  @keyframes spin {\n",
       "    0% {\n",
       "      border-color: transparent;\n",
       "      border-bottom-color: var(--fill-color);\n",
       "      border-left-color: var(--fill-color);\n",
       "    }\n",
       "    20% {\n",
       "      border-color: transparent;\n",
       "      border-left-color: var(--fill-color);\n",
       "      border-top-color: var(--fill-color);\n",
       "    }\n",
       "    30% {\n",
       "      border-color: transparent;\n",
       "      border-left-color: var(--fill-color);\n",
       "      border-top-color: var(--fill-color);\n",
       "      border-right-color: var(--fill-color);\n",
       "    }\n",
       "    40% {\n",
       "      border-color: transparent;\n",
       "      border-right-color: var(--fill-color);\n",
       "      border-top-color: var(--fill-color);\n",
       "    }\n",
       "    60% {\n",
       "      border-color: transparent;\n",
       "      border-right-color: var(--fill-color);\n",
       "    }\n",
       "    80% {\n",
       "      border-color: transparent;\n",
       "      border-right-color: var(--fill-color);\n",
       "      border-bottom-color: var(--fill-color);\n",
       "    }\n",
       "    90% {\n",
       "      border-color: transparent;\n",
       "      border-bottom-color: var(--fill-color);\n",
       "    }\n",
       "  }\n",
       "</style>\n",
       "\n",
       "  <script>\n",
       "    async function quickchart(key) {\n",
       "      const quickchartButtonEl =\n",
       "        document.querySelector('#' + key + ' button');\n",
       "      quickchartButtonEl.disabled = true;  // To prevent multiple clicks.\n",
       "      quickchartButtonEl.classList.add('colab-df-spinner');\n",
       "      try {\n",
       "        const charts = await google.colab.kernel.invokeFunction(\n",
       "            'suggestCharts', [key], {});\n",
       "      } catch (error) {\n",
       "        console.error('Error during call to suggestCharts:', error);\n",
       "      }\n",
       "      quickchartButtonEl.classList.remove('colab-df-spinner');\n",
       "      quickchartButtonEl.classList.add('colab-df-quickchart-complete');\n",
       "    }\n",
       "    (() => {\n",
       "      let quickchartButtonEl =\n",
       "        document.querySelector('#df-75405088-9996-4fbc-ab94-33059b5568f4 button');\n",
       "      quickchartButtonEl.style.display =\n",
       "        google.colab.kernel.accessAllowed ? 'block' : 'none';\n",
       "    })();\n",
       "  </script>\n",
       "</div>\n",
       "\n",
       "    </div>\n",
       "  </div>\n"
      ],
      "text/plain": [
       "          마감일             매출액            매출원가        판매비와관리비           영업이익  \\\n",
       "0  2023-03-31  37778693000000  30056680000000  4129314000000  3592699000000   \n",
       "1  2023-06-30  42249695000000  33356309000000  4655455000000  4237931000000   \n",
       "2  2023-09-30  41002663000000  32541305000000  4639559000000  3821799000000   \n",
       "\n",
       "    재고자산회전율      유동비율      당좌비율          당기순이익    수요예측지표  ...         Model  \\\n",
       "0  2.250297  1.325627  1.106406 -3293248000000 -0.195916  ...  2023_1분기_그랜저   \n",
       "1  2.426441  1.337885  1.107824 -3603870000000 -0.206938  ...  2023_2분기_그랜저   \n",
       "2  2.280985  1.377631  1.132773 -3017161000000 -0.167845  ...  2023_3분기_그랜저   \n",
       "\n",
       "       판매량   차종        가격           판매액  차량별 매출액 기여도 차량별 매출원가 기여도  \\\n",
       "0  16400.0  그랜저  37430000  6.138520e+11     0.016249     0.020423   \n",
       "1  13514.0  그랜저  37430000  5.058290e+11     0.011972     0.015164   \n",
       "2  10410.0  그랜저  37430000  3.896463e+11     0.009503     0.011974   \n",
       "\n",
       "   차량별 영업이익 기여도  차량별 판관비 기여도 target  \n",
       "0      0.170861     0.148657      1  \n",
       "1      0.119358     0.108653      1  \n",
       "2      0.101954     0.083983      1  \n",
       "\n",
       "[3 rows x 34 columns]"
      ]
     },
     "execution_count": 34,
     "metadata": {},
     "output_type": "execute_result"
    }
   ],
   "source": [
    "df1.head(3)"
   ]
  },
  {
   "cell_type": "code",
   "execution_count": null,
   "metadata": {
    "colab": {
     "base_uri": "https://localhost:8080/",
     "height": 384
    },
    "id": "9zQdCV4CiItB",
    "outputId": "5d56430d-2241-4c78-ac83-085728e5cfbf"
   },
   "outputs": [
    {
     "data": {
      "text/html": [
       "\n",
       "  <div id=\"df-5e30d98f-1e62-4acc-8468-a6e9925e0dae\" class=\"colab-df-container\">\n",
       "    <div>\n",
       "<style scoped>\n",
       "    .dataframe tbody tr th:only-of-type {\n",
       "        vertical-align: middle;\n",
       "    }\n",
       "\n",
       "    .dataframe tbody tr th {\n",
       "        vertical-align: top;\n",
       "    }\n",
       "\n",
       "    .dataframe thead th {\n",
       "        text-align: right;\n",
       "    }\n",
       "</style>\n",
       "<table border=\"1\" class=\"dataframe\">\n",
       "  <thead>\n",
       "    <tr style=\"text-align: right;\">\n",
       "      <th></th>\n",
       "      <th>매출액</th>\n",
       "      <th>매출원가</th>\n",
       "      <th>판매비와관리비</th>\n",
       "      <th>영업이익</th>\n",
       "      <th>재고자산회전율</th>\n",
       "      <th>유동비율</th>\n",
       "      <th>당좌비율</th>\n",
       "      <th>당기순이익</th>\n",
       "      <th>수요예측지표</th>\n",
       "      <th>세전이익대비_비용비율</th>\n",
       "      <th>...</th>\n",
       "      <th>수입(억불)</th>\n",
       "      <th>분기</th>\n",
       "      <th>판매량</th>\n",
       "      <th>가격</th>\n",
       "      <th>판매액</th>\n",
       "      <th>차량별 매출액 기여도</th>\n",
       "      <th>차량별 매출원가 기여도</th>\n",
       "      <th>차량별 영업이익 기여도</th>\n",
       "      <th>차량별 판관비 기여도</th>\n",
       "      <th>target</th>\n",
       "    </tr>\n",
       "  </thead>\n",
       "  <tbody>\n",
       "    <tr>\n",
       "      <th>count</th>\n",
       "      <td>8.330000e+02</td>\n",
       "      <td>8.330000e+02</td>\n",
       "      <td>8.330000e+02</td>\n",
       "      <td>8.330000e+02</td>\n",
       "      <td>833.000000</td>\n",
       "      <td>833.000000</td>\n",
       "      <td>833.000000</td>\n",
       "      <td>8.330000e+02</td>\n",
       "      <td>833.000000</td>\n",
       "      <td>833.000000</td>\n",
       "      <td>...</td>\n",
       "      <td>833.000000</td>\n",
       "      <td>833.000000</td>\n",
       "      <td>833.000000</td>\n",
       "      <td>8.330000e+02</td>\n",
       "      <td>8.330000e+02</td>\n",
       "      <td>833.000000</td>\n",
       "      <td>833.000000</td>\n",
       "      <td>833.000000</td>\n",
       "      <td>833.000000</td>\n",
       "      <td>833.000000</td>\n",
       "    </tr>\n",
       "    <tr>\n",
       "      <th>mean</th>\n",
       "      <td>2.743754e+13</td>\n",
       "      <td>2.242216e+13</td>\n",
       "      <td>3.690942e+12</td>\n",
       "      <td>1.324436e+12</td>\n",
       "      <td>2.189686</td>\n",
       "      <td>1.471276</td>\n",
       "      <td>1.250921</td>\n",
       "      <td>-1.380092e+12</td>\n",
       "      <td>-0.103862</td>\n",
       "      <td>0.852924</td>\n",
       "      <td>...</td>\n",
       "      <td>112.659064</td>\n",
       "      <td>20200.848739</td>\n",
       "      <td>6699.199760</td>\n",
       "      <td>3.729439e+07</td>\n",
       "      <td>2.257580e+11</td>\n",
       "      <td>0.008967</td>\n",
       "      <td>0.010846</td>\n",
       "      <td>-0.233233</td>\n",
       "      <td>0.068876</td>\n",
       "      <td>0.469388</td>\n",
       "    </tr>\n",
       "    <tr>\n",
       "      <th>std</th>\n",
       "      <td>7.140718e+12</td>\n",
       "      <td>5.373972e+12</td>\n",
       "      <td>1.051910e+12</td>\n",
       "      <td>1.538053e+12</td>\n",
       "      <td>0.363927</td>\n",
       "      <td>0.134119</td>\n",
       "      <td>0.115535</td>\n",
       "      <td>1.299086e+12</td>\n",
       "      <td>0.092197</td>\n",
       "      <td>0.350583</td>\n",
       "      <td>...</td>\n",
       "      <td>45.771067</td>\n",
       "      <td>22.160010</td>\n",
       "      <td>7044.120039</td>\n",
       "      <td>1.863234e+07</td>\n",
       "      <td>2.374157e+11</td>\n",
       "      <td>0.010287</td>\n",
       "      <td>0.012322</td>\n",
       "      <td>3.344941</td>\n",
       "      <td>0.083069</td>\n",
       "      <td>0.499362</td>\n",
       "    </tr>\n",
       "    <tr>\n",
       "      <th>min</th>\n",
       "      <td>1.360672e+13</td>\n",
       "      <td>1.220693e+13</td>\n",
       "      <td>1.181388e+12</td>\n",
       "      <td>-2.754618e+12</td>\n",
       "      <td>1.168396</td>\n",
       "      <td>1.298409</td>\n",
       "      <td>1.105899</td>\n",
       "      <td>-3.603870e+12</td>\n",
       "      <td>-0.260044</td>\n",
       "      <td>0.521116</td>\n",
       "      <td>...</td>\n",
       "      <td>0.000000</td>\n",
       "      <td>20161.000000</td>\n",
       "      <td>1.000000</td>\n",
       "      <td>0.000000e+00</td>\n",
       "      <td>0.000000e+00</td>\n",
       "      <td>0.000000</td>\n",
       "      <td>0.000000</td>\n",
       "      <td>-51.426449</td>\n",
       "      <td>0.000000</td>\n",
       "      <td>0.000000</td>\n",
       "    </tr>\n",
       "    <tr>\n",
       "      <th>25%</th>\n",
       "      <td>2.243656e+13</td>\n",
       "      <td>1.830261e+13</td>\n",
       "      <td>3.087791e+12</td>\n",
       "      <td>5.903210e+11</td>\n",
       "      <td>2.093959</td>\n",
       "      <td>1.377631</td>\n",
       "      <td>1.142328</td>\n",
       "      <td>-1.853323e+12</td>\n",
       "      <td>-0.161193</td>\n",
       "      <td>0.707802</td>\n",
       "      <td>...</td>\n",
       "      <td>109.000000</td>\n",
       "      <td>20182.000000</td>\n",
       "      <td>1117.000000</td>\n",
       "      <td>2.466000e+07</td>\n",
       "      <td>3.144790e+10</td>\n",
       "      <td>0.001029</td>\n",
       "      <td>0.001303</td>\n",
       "      <td>0.005740</td>\n",
       "      <td>0.008261</td>\n",
       "      <td>0.000000</td>\n",
       "    </tr>\n",
       "    <tr>\n",
       "      <th>50%</th>\n",
       "      <td>2.531945e+13</td>\n",
       "      <td>2.105414e+13</td>\n",
       "      <td>3.403603e+12</td>\n",
       "      <td>1.342391e+12</td>\n",
       "      <td>2.234168</td>\n",
       "      <td>1.427069</td>\n",
       "      <td>1.216838</td>\n",
       "      <td>-1.412890e+12</td>\n",
       "      <td>-0.128692</td>\n",
       "      <td>0.762586</td>\n",
       "      <td>...</td>\n",
       "      <td>121.000000</td>\n",
       "      <td>20203.000000</td>\n",
       "      <td>3643.000000</td>\n",
       "      <td>3.213000e+07</td>\n",
       "      <td>1.575118e+11</td>\n",
       "      <td>0.005368</td>\n",
       "      <td>0.006473</td>\n",
       "      <td>0.050399</td>\n",
       "      <td>0.041765</td>\n",
       "      <td>0.000000</td>\n",
       "    </tr>\n",
       "    <tr>\n",
       "      <th>75%</th>\n",
       "      <td>3.032607e+13</td>\n",
       "      <td>2.459480e+13</td>\n",
       "      <td>4.420510e+12</td>\n",
       "      <td>1.928930e+12</td>\n",
       "      <td>2.426441</td>\n",
       "      <td>1.612084</td>\n",
       "      <td>1.375069</td>\n",
       "      <td>-8.425540e+11</td>\n",
       "      <td>-0.074723</td>\n",
       "      <td>0.793268</td>\n",
       "      <td>...</td>\n",
       "      <td>142.500000</td>\n",
       "      <td>20222.000000</td>\n",
       "      <td>10894.000000</td>\n",
       "      <td>4.347000e+07</td>\n",
       "      <td>3.520390e+11</td>\n",
       "      <td>0.013334</td>\n",
       "      <td>0.016033</td>\n",
       "      <td>0.235829</td>\n",
       "      <td>0.102143</td>\n",
       "      <td>1.000000</td>\n",
       "    </tr>\n",
       "    <tr>\n",
       "      <th>max</th>\n",
       "      <td>4.224970e+13</td>\n",
       "      <td>3.335631e+13</td>\n",
       "      <td>5.805372e+12</td>\n",
       "      <td>4.237931e+12</td>\n",
       "      <td>2.676846</td>\n",
       "      <td>1.751399</td>\n",
       "      <td>1.477575</td>\n",
       "      <td>1.704323e+12</td>\n",
       "      <td>0.146442</td>\n",
       "      <td>2.324199</td>\n",
       "      <td>...</td>\n",
       "      <td>153.700000</td>\n",
       "      <td>20233.000000</td>\n",
       "      <td>34248.000000</td>\n",
       "      <td>9.445000e+07</td>\n",
       "      <td>1.281903e+12</td>\n",
       "      <td>0.065875</td>\n",
       "      <td>0.073429</td>\n",
       "      <td>4.104009</td>\n",
       "      <td>0.758718</td>\n",
       "      <td>1.000000</td>\n",
       "    </tr>\n",
       "  </tbody>\n",
       "</table>\n",
       "<p>8 rows × 28 columns</p>\n",
       "</div>\n",
       "    <div class=\"colab-df-buttons\">\n",
       "\n",
       "  <div class=\"colab-df-container\">\n",
       "    <button class=\"colab-df-convert\" onclick=\"convertToInteractive('df-5e30d98f-1e62-4acc-8468-a6e9925e0dae')\"\n",
       "            title=\"Convert this dataframe to an interactive table.\"\n",
       "            style=\"display:none;\">\n",
       "\n",
       "  <svg xmlns=\"http://www.w3.org/2000/svg\" height=\"24px\" viewBox=\"0 -960 960 960\">\n",
       "    <path d=\"M120-120v-720h720v720H120Zm60-500h600v-160H180v160Zm220 220h160v-160H400v160Zm0 220h160v-160H400v160ZM180-400h160v-160H180v160Zm440 0h160v-160H620v160ZM180-180h160v-160H180v160Zm440 0h160v-160H620v160Z\"/>\n",
       "  </svg>\n",
       "    </button>\n",
       "\n",
       "  <style>\n",
       "    .colab-df-container {\n",
       "      display:flex;\n",
       "      gap: 12px;\n",
       "    }\n",
       "\n",
       "    .colab-df-convert {\n",
       "      background-color: #E8F0FE;\n",
       "      border: none;\n",
       "      border-radius: 50%;\n",
       "      cursor: pointer;\n",
       "      display: none;\n",
       "      fill: #1967D2;\n",
       "      height: 32px;\n",
       "      padding: 0 0 0 0;\n",
       "      width: 32px;\n",
       "    }\n",
       "\n",
       "    .colab-df-convert:hover {\n",
       "      background-color: #E2EBFA;\n",
       "      box-shadow: 0px 1px 2px rgba(60, 64, 67, 0.3), 0px 1px 3px 1px rgba(60, 64, 67, 0.15);\n",
       "      fill: #174EA6;\n",
       "    }\n",
       "\n",
       "    .colab-df-buttons div {\n",
       "      margin-bottom: 4px;\n",
       "    }\n",
       "\n",
       "    [theme=dark] .colab-df-convert {\n",
       "      background-color: #3B4455;\n",
       "      fill: #D2E3FC;\n",
       "    }\n",
       "\n",
       "    [theme=dark] .colab-df-convert:hover {\n",
       "      background-color: #434B5C;\n",
       "      box-shadow: 0px 1px 3px 1px rgba(0, 0, 0, 0.15);\n",
       "      filter: drop-shadow(0px 1px 2px rgba(0, 0, 0, 0.3));\n",
       "      fill: #FFFFFF;\n",
       "    }\n",
       "  </style>\n",
       "\n",
       "    <script>\n",
       "      const buttonEl =\n",
       "        document.querySelector('#df-5e30d98f-1e62-4acc-8468-a6e9925e0dae button.colab-df-convert');\n",
       "      buttonEl.style.display =\n",
       "        google.colab.kernel.accessAllowed ? 'block' : 'none';\n",
       "\n",
       "      async function convertToInteractive(key) {\n",
       "        const element = document.querySelector('#df-5e30d98f-1e62-4acc-8468-a6e9925e0dae');\n",
       "        const dataTable =\n",
       "          await google.colab.kernel.invokeFunction('convertToInteractive',\n",
       "                                                    [key], {});\n",
       "        if (!dataTable) return;\n",
       "\n",
       "        const docLinkHtml = 'Like what you see? Visit the ' +\n",
       "          '<a target=\"_blank\" href=https://colab.research.google.com/notebooks/data_table.ipynb>data table notebook</a>'\n",
       "          + ' to learn more about interactive tables.';\n",
       "        element.innerHTML = '';\n",
       "        dataTable['output_type'] = 'display_data';\n",
       "        await google.colab.output.renderOutput(dataTable, element);\n",
       "        const docLink = document.createElement('div');\n",
       "        docLink.innerHTML = docLinkHtml;\n",
       "        element.appendChild(docLink);\n",
       "      }\n",
       "    </script>\n",
       "  </div>\n",
       "\n",
       "\n",
       "<div id=\"df-82f7cba2-af4e-4e8e-a3f1-2a618f9a0921\">\n",
       "  <button class=\"colab-df-quickchart\" onclick=\"quickchart('df-82f7cba2-af4e-4e8e-a3f1-2a618f9a0921')\"\n",
       "            title=\"Suggest charts\"\n",
       "            style=\"display:none;\">\n",
       "\n",
       "<svg xmlns=\"http://www.w3.org/2000/svg\" height=\"24px\"viewBox=\"0 0 24 24\"\n",
       "     width=\"24px\">\n",
       "    <g>\n",
       "        <path d=\"M19 3H5c-1.1 0-2 .9-2 2v14c0 1.1.9 2 2 2h14c1.1 0 2-.9 2-2V5c0-1.1-.9-2-2-2zM9 17H7v-7h2v7zm4 0h-2V7h2v10zm4 0h-2v-4h2v4z\"/>\n",
       "    </g>\n",
       "</svg>\n",
       "  </button>\n",
       "\n",
       "<style>\n",
       "  .colab-df-quickchart {\n",
       "      --bg-color: #E8F0FE;\n",
       "      --fill-color: #1967D2;\n",
       "      --hover-bg-color: #E2EBFA;\n",
       "      --hover-fill-color: #174EA6;\n",
       "      --disabled-fill-color: #AAA;\n",
       "      --disabled-bg-color: #DDD;\n",
       "  }\n",
       "\n",
       "  [theme=dark] .colab-df-quickchart {\n",
       "      --bg-color: #3B4455;\n",
       "      --fill-color: #D2E3FC;\n",
       "      --hover-bg-color: #434B5C;\n",
       "      --hover-fill-color: #FFFFFF;\n",
       "      --disabled-bg-color: #3B4455;\n",
       "      --disabled-fill-color: #666;\n",
       "  }\n",
       "\n",
       "  .colab-df-quickchart {\n",
       "    background-color: var(--bg-color);\n",
       "    border: none;\n",
       "    border-radius: 50%;\n",
       "    cursor: pointer;\n",
       "    display: none;\n",
       "    fill: var(--fill-color);\n",
       "    height: 32px;\n",
       "    padding: 0;\n",
       "    width: 32px;\n",
       "  }\n",
       "\n",
       "  .colab-df-quickchart:hover {\n",
       "    background-color: var(--hover-bg-color);\n",
       "    box-shadow: 0 1px 2px rgba(60, 64, 67, 0.3), 0 1px 3px 1px rgba(60, 64, 67, 0.15);\n",
       "    fill: var(--button-hover-fill-color);\n",
       "  }\n",
       "\n",
       "  .colab-df-quickchart-complete:disabled,\n",
       "  .colab-df-quickchart-complete:disabled:hover {\n",
       "    background-color: var(--disabled-bg-color);\n",
       "    fill: var(--disabled-fill-color);\n",
       "    box-shadow: none;\n",
       "  }\n",
       "\n",
       "  .colab-df-spinner {\n",
       "    border: 2px solid var(--fill-color);\n",
       "    border-color: transparent;\n",
       "    border-bottom-color: var(--fill-color);\n",
       "    animation:\n",
       "      spin 1s steps(1) infinite;\n",
       "  }\n",
       "\n",
       "  @keyframes spin {\n",
       "    0% {\n",
       "      border-color: transparent;\n",
       "      border-bottom-color: var(--fill-color);\n",
       "      border-left-color: var(--fill-color);\n",
       "    }\n",
       "    20% {\n",
       "      border-color: transparent;\n",
       "      border-left-color: var(--fill-color);\n",
       "      border-top-color: var(--fill-color);\n",
       "    }\n",
       "    30% {\n",
       "      border-color: transparent;\n",
       "      border-left-color: var(--fill-color);\n",
       "      border-top-color: var(--fill-color);\n",
       "      border-right-color: var(--fill-color);\n",
       "    }\n",
       "    40% {\n",
       "      border-color: transparent;\n",
       "      border-right-color: var(--fill-color);\n",
       "      border-top-color: var(--fill-color);\n",
       "    }\n",
       "    60% {\n",
       "      border-color: transparent;\n",
       "      border-right-color: var(--fill-color);\n",
       "    }\n",
       "    80% {\n",
       "      border-color: transparent;\n",
       "      border-right-color: var(--fill-color);\n",
       "      border-bottom-color: var(--fill-color);\n",
       "    }\n",
       "    90% {\n",
       "      border-color: transparent;\n",
       "      border-bottom-color: var(--fill-color);\n",
       "    }\n",
       "  }\n",
       "</style>\n",
       "\n",
       "  <script>\n",
       "    async function quickchart(key) {\n",
       "      const quickchartButtonEl =\n",
       "        document.querySelector('#' + key + ' button');\n",
       "      quickchartButtonEl.disabled = true;  // To prevent multiple clicks.\n",
       "      quickchartButtonEl.classList.add('colab-df-spinner');\n",
       "      try {\n",
       "        const charts = await google.colab.kernel.invokeFunction(\n",
       "            'suggestCharts', [key], {});\n",
       "      } catch (error) {\n",
       "        console.error('Error during call to suggestCharts:', error);\n",
       "      }\n",
       "      quickchartButtonEl.classList.remove('colab-df-spinner');\n",
       "      quickchartButtonEl.classList.add('colab-df-quickchart-complete');\n",
       "    }\n",
       "    (() => {\n",
       "      let quickchartButtonEl =\n",
       "        document.querySelector('#df-82f7cba2-af4e-4e8e-a3f1-2a618f9a0921 button');\n",
       "      quickchartButtonEl.style.display =\n",
       "        google.colab.kernel.accessAllowed ? 'block' : 'none';\n",
       "    })();\n",
       "  </script>\n",
       "</div>\n",
       "\n",
       "    </div>\n",
       "  </div>\n"
      ],
      "text/plain": [
       "                매출액          매출원가       판매비와관리비          영업이익     재고자산회전율  \\\n",
       "count  8.330000e+02  8.330000e+02  8.330000e+02  8.330000e+02  833.000000   \n",
       "mean   2.743754e+13  2.242216e+13  3.690942e+12  1.324436e+12    2.189686   \n",
       "std    7.140718e+12  5.373972e+12  1.051910e+12  1.538053e+12    0.363927   \n",
       "min    1.360672e+13  1.220693e+13  1.181388e+12 -2.754618e+12    1.168396   \n",
       "25%    2.243656e+13  1.830261e+13  3.087791e+12  5.903210e+11    2.093959   \n",
       "50%    2.531945e+13  2.105414e+13  3.403603e+12  1.342391e+12    2.234168   \n",
       "75%    3.032607e+13  2.459480e+13  4.420510e+12  1.928930e+12    2.426441   \n",
       "max    4.224970e+13  3.335631e+13  5.805372e+12  4.237931e+12    2.676846   \n",
       "\n",
       "             유동비율        당좌비율         당기순이익      수요예측지표  세전이익대비_비용비율  ...  \\\n",
       "count  833.000000  833.000000  8.330000e+02  833.000000   833.000000  ...   \n",
       "mean     1.471276    1.250921 -1.380092e+12   -0.103862     0.852924  ...   \n",
       "std      0.134119    0.115535  1.299086e+12    0.092197     0.350583  ...   \n",
       "min      1.298409    1.105899 -3.603870e+12   -0.260044     0.521116  ...   \n",
       "25%      1.377631    1.142328 -1.853323e+12   -0.161193     0.707802  ...   \n",
       "50%      1.427069    1.216838 -1.412890e+12   -0.128692     0.762586  ...   \n",
       "75%      1.612084    1.375069 -8.425540e+11   -0.074723     0.793268  ...   \n",
       "max      1.751399    1.477575  1.704323e+12    0.146442     2.324199  ...   \n",
       "\n",
       "           수입(억불)            분기           판매량            가격           판매액  \\\n",
       "count  833.000000    833.000000    833.000000  8.330000e+02  8.330000e+02   \n",
       "mean   112.659064  20200.848739   6699.199760  3.729439e+07  2.257580e+11   \n",
       "std     45.771067     22.160010   7044.120039  1.863234e+07  2.374157e+11   \n",
       "min      0.000000  20161.000000      1.000000  0.000000e+00  0.000000e+00   \n",
       "25%    109.000000  20182.000000   1117.000000  2.466000e+07  3.144790e+10   \n",
       "50%    121.000000  20203.000000   3643.000000  3.213000e+07  1.575118e+11   \n",
       "75%    142.500000  20222.000000  10894.000000  4.347000e+07  3.520390e+11   \n",
       "max    153.700000  20233.000000  34248.000000  9.445000e+07  1.281903e+12   \n",
       "\n",
       "       차량별 매출액 기여도  차량별 매출원가 기여도  차량별 영업이익 기여도  차량별 판관비 기여도      target  \n",
       "count   833.000000    833.000000    833.000000   833.000000  833.000000  \n",
       "mean      0.008967      0.010846     -0.233233     0.068876    0.469388  \n",
       "std       0.010287      0.012322      3.344941     0.083069    0.499362  \n",
       "min       0.000000      0.000000    -51.426449     0.000000    0.000000  \n",
       "25%       0.001029      0.001303      0.005740     0.008261    0.000000  \n",
       "50%       0.005368      0.006473      0.050399     0.041765    0.000000  \n",
       "75%       0.013334      0.016033      0.235829     0.102143    1.000000  \n",
       "max       0.065875      0.073429      4.104009     0.758718    1.000000  \n",
       "\n",
       "[8 rows x 28 columns]"
      ]
     },
     "execution_count": 35,
     "metadata": {},
     "output_type": "execute_result"
    }
   ],
   "source": [
    "df1.describe()"
   ]
  },
  {
   "cell_type": "code",
   "execution_count": null,
   "metadata": {
    "id": "BJj9VGO6Rh38"
   },
   "outputs": [],
   "source": [
    "df1.drop(['생산량(천대)','내수(천대)','수출(억불)','수입(억불)','분기'], axis=1, inplace=True)"
   ]
  },
  {
   "cell_type": "code",
   "execution_count": null,
   "metadata": {
    "id": "gLefw7LCSHBK"
   },
   "outputs": [],
   "source": [
    "df1.drop(['year'], axis=1, inplace=True)"
   ]
  },
  {
   "cell_type": "code",
   "execution_count": null,
   "metadata": {
    "id": "09Nhe2skSMbZ"
   },
   "outputs": [],
   "source": [
    "# # '대기기간' 열의 값 변환 함수 정의\n",
    "# def convert_duration(duration_str):\n",
    "#     if '주' in duration_str:\n",
    "#         # '주'가 포함된 경우 숫자 * 7 반환\n",
    "#         return float(duration_str.replace('주', '')) * 7\n",
    "#     elif '개월' in duration_str:\n",
    "#         # '개월'이 포함된 경우 숫자 * 30 반환\n",
    "#         return float(duration_str.replace('개월', '')) * 30\n",
    "#     else:\n",
    "#         # 다른 경우는 그대로 반환\n",
    "#         return float(duration_str)\n",
    "\n",
    "# # '대기기간' 열에 함수 적용하여 새로운 열 생성\n",
    "# df2['변환된기간'] = df2['대기기간'].apply(convert_duration)"
   ]
  },
  {
   "cell_type": "code",
   "execution_count": null,
   "metadata": {
    "id": "ZMj7LjfzSwBB"
   },
   "outputs": [],
   "source": [
    "# # 변환된 기간이 45를 초과하는지 여부에 따라 1 또는 0 반환하는 함수 정의\n",
    "# def is_above_threshold(duration):\n",
    "#     return 1 if duration > 45 else 0\n",
    "# df2['target'] = df2['변환된기간'].apply(is_above_threshold)"
   ]
  },
  {
   "cell_type": "code",
   "execution_count": null,
   "metadata": {
    "colab": {
     "base_uri": "https://localhost:8080/",
     "height": 448
    },
    "id": "EQHhOOwCTYNk",
    "outputId": "02cfa7ed-5f0a-4398-e3c2-ca6193006e23"
   },
   "outputs": [
    {
     "data": {
      "text/plain": [
       "<Axes: >"
      ]
     },
     "execution_count": 40,
     "metadata": {},
     "output_type": "execute_result"
    },
    {
     "data": {
      "image/png": "[encoded data removed]",
      "text/plain": [
       "<Figure size 640x480 with 1 Axes>"
      ]
     },
     "metadata": {},
     "output_type": "display_data"
    }
   ],
   "source": [
    "df1['target'].hist() #이 둘의 밸런스는 맞음"
   ]
  },
  {
   "cell_type": "markdown",
   "metadata": {
    "id": "OLsQYatGVIhx"
   },
   "source": [
    "인코딩 (원핫인코딩)"
   ]
  },
  {
   "cell_type": "code",
   "execution_count": null,
   "metadata": {
    "id": "gDclx9DiVZDY"
   },
   "outputs": [],
   "source": [
    "target = df1['target']\n",
    "feature = df1.drop(['target','마감일','Model'],axis=1)#우선 필요없다고 판단되는 칼럼삭제, 마감일의 경우 다른 분석에는 필요할지 논의 필"
   ]
  },
  {
   "cell_type": "code",
   "execution_count": null,
   "metadata": {
    "id": "NdITD5_KZfPG"
   },
   "outputs": [],
   "source": [
    "feature['명목GDP'] = feature['명목GDP'].str.replace(',', '').astype(float)"
   ]
  },
  {
   "cell_type": "code",
   "execution_count": null,
   "metadata": {
    "id": "Srfbu-yaVIGD"
   },
   "outputs": [],
   "source": [
    "feature_en = pd.get_dummies(feature)"
   ]
  },
  {
   "cell_type": "markdown",
   "metadata": {
    "id": "3uzxV-jyXhdB"
   },
   "source": [
    "정규화"
   ]
  },
  {
   "cell_type": "code",
   "execution_count": null,
   "metadata": {
    "id": "7Cuuw5yYXhA9"
   },
   "outputs": [],
   "source": [
    "import sklearn\n",
    "from sklearn.preprocessing import *\n",
    "\n",
    "feature_sc=StandardScaler().fit_transform(feature_en)"
   ]
  },
  {
   "cell_type": "code",
   "execution_count": null,
   "metadata": {
    "id": "rcFZv3LxVF3_"
   },
   "outputs": [],
   "source": [
    "from sklearn.model_selection import train_test_split\n",
    "X_train, X_test, Y_train, Y_test = train_test_split(feature_sc, target, test_size = 0.2, random_state = 0)"
   ]
  },
  {
   "cell_type": "markdown",
   "metadata": {
    "id": "zN62IW1xiQWu"
   },
   "source": [
    "로지스틱회귀"
   ]
  },
  {
   "cell_type": "code",
   "execution_count": null,
   "metadata": {
    "id": "KU7CdSdkT0if"
   },
   "outputs": [],
   "source": [
    "from sklearn.linear_model import LogisticRegression\n",
    "model = LogisticRegression()\n",
    "model.fit(X_train, Y_train)\n",
    "\n",
    "Y_pred = model.predict(X_test)\n"
   ]
  },
  {
   "cell_type": "code",
   "execution_count": null,
   "metadata": {
    "colab": {
     "base_uri": "https://localhost:8080/"
    },
    "id": "sR2kuOC9U_XD",
    "outputId": "f275babe-cb7e-4d40-c58b-a3bc12bf890d"
   },
   "outputs": [
    {
     "name": "stdout",
     "output_type": "stream",
     "text": [
      "confusion matrix = \n",
      " [[81 15]\n",
      " [10 61]]\n",
      "accuracy =  0.8502994011976048\n",
      "precision =  0.8026315789473685\n",
      "recall =  0.8591549295774648\n",
      "f1 score =  0.8299319727891157\n",
      "roc auc score =  0.902288732394366\n"
     ]
    }
   ],
   "source": [
    "from sklearn.metrics import confusion_matrix, accuracy_score, precision_score, recall_score, f1_score, roc_auc_score, auc\n",
    "score1 = model.predict_proba(X_test)[:, 1]\n",
    "\n",
    "print('confusion matrix = \\n', confusion_matrix(y_true=Y_test, y_pred=Y_pred))\n",
    "print('accuracy = ', accuracy_score(y_true=Y_test, y_pred=Y_pred))\n",
    "print('precision = ', precision_score(y_true=Y_test, y_pred=Y_pred))\n",
    "print('recall = ', recall_score(y_true=Y_test, y_pred=Y_pred))\n",
    "print('f1 score = ', f1_score(y_true=Y_test, y_pred=Y_pred))\n",
    "print('roc auc score = ', roc_auc_score(Y_test, score1))"
   ]
  },
  {
   "cell_type": "code",
   "execution_count": null,
   "metadata": {
    "colab": {
     "base_uri": "https://localhost:8080/"
    },
    "id": "iVlT9dlSW5NM",
    "outputId": "5de17ca1-fd53-4ca7-d5e0-e29438e71af3"
   },
   "outputs": [
    {
     "name": "stdout",
     "output_type": "stream",
     "text": [
      "매출액: -0.32401832567858113\n",
      "매출원가: -2.259661919857589\n",
      "판매비와관리비: 3.3672692521140957\n",
      "영업이익: 4.9416345989346935\n",
      "재고자산회전율: -0.7048749477815687\n",
      "유동비율: 1.72161726159351\n",
      "당좌비율: 1.296724939276149\n",
      "당기순이익: 0.5094735105025229\n",
      "수요예측지표: -2.149784912252398\n",
      "세전이익대비_비용비율: -3.120636806714098\n",
      "부채비율: 0.9011728579853793\n",
      "자본회전율: -0.7048749477815534\n",
      "현금비율: 1.078344205644518\n",
      "순운전자본: -2.7915348576059356\n",
      "부채총계대매출액: 3.1209170785213804\n"
     ]
    }
   ],
   "source": [
    "# Calculate the weights of each feature\n",
    "weights = model.coef_[0] * (X_train.max(axis=0) - X_train.min(axis=0)) / X_train.std(axis=0)\n",
    "\n",
    "# Sort the weights in descending order\n",
    "sorted_idx = weights.argsort()[::-1]\n",
    "for i in range(15):\n",
    "    print(f\"{feature_en.columns[i]}: {weights[i]}\")"
   ]
  },
  {
   "cell_type": "markdown",
   "metadata": {
    "id": "uXcSS08ga8fg"
   },
   "source": [
    "랜덤 포레스트"
   ]
  },
  {
   "cell_type": "code",
   "execution_count": null,
   "metadata": {
    "id": "29mHIe4Va94K"
   },
   "outputs": [],
   "source": [
    "from sklearn.ensemble import RandomForestClassifier\n",
    "RF_clf = RandomForestClassifier()\n",
    "RF_clf.fit(X_train, Y_train)\n",
    "Y_pred = RF_clf.predict(X_test)"
   ]
  },
  {
   "cell_type": "code",
   "execution_count": null,
   "metadata": {
    "colab": {
     "base_uri": "https://localhost:8080/"
    },
    "id": "XAI4LPoDbMTX",
    "outputId": "f3796eca-b5ca-4d3b-d55b-f7eb7a2e2a7a"
   },
   "outputs": [
    {
     "name": "stdout",
     "output_type": "stream",
     "text": [
      "confusion matrix = \n",
      " [[76 20]\n",
      " [19 52]]\n",
      "accuracy =  0.7664670658682635\n",
      "precision =  0.7222222222222222\n",
      "recall =  0.7323943661971831\n",
      "f1 score =  0.7272727272727272\n",
      "roc auc score =  0.8696449530516432\n"
     ]
    }
   ],
   "source": [
    "from sklearn.metrics import confusion_matrix, accuracy_score, precision_score, recall_score, f1_score, roc_auc_score, auc\n",
    "score1 = RF_clf.predict_proba(X_test)[:, 1]\n",
    "\n",
    "print('confusion matrix = \\n', confusion_matrix(y_true=Y_test, y_pred=Y_pred))\n",
    "print('accuracy = ', accuracy_score(y_true=Y_test, y_pred=Y_pred))\n",
    "print('precision = ', precision_score(y_true=Y_test, y_pred=Y_pred))\n",
    "print('recall = ', recall_score(y_true=Y_test, y_pred=Y_pred))\n",
    "print('f1 score = ', f1_score(y_true=Y_test, y_pred=Y_pred))\n",
    "print('roc auc score = ', roc_auc_score(Y_test, score1))"
   ]
  },
  {
   "cell_type": "code",
   "execution_count": null,
   "metadata": {
    "colab": {
     "base_uri": "https://localhost:8080/"
    },
    "id": "B0TGdAEhcs-G",
    "outputId": "5c31d415-6960-4eb1-8022-833c8202ac2a"
   },
   "outputs": [
    {
     "name": "stdout",
     "output_type": "stream",
     "text": [
      "부채비율            0.076046\n",
      "판매량             0.057785\n",
      "가격              0.057753\n",
      "차량별 판관비 기여도     0.056600\n",
      "차량별 매출액 기여도     0.054622\n",
      "판매액             0.053333\n",
      "명목GDP           0.052975\n",
      "차량별 매출원가 기여도    0.050156\n",
      "차량별 영업이익 기여도    0.050065\n",
      "현금비율            0.041455\n",
      "유동비율            0.029453\n",
      "당좌비율            0.024983\n",
      "차종_넥쏘           0.024359\n",
      "수요예측지표          0.020595\n",
      "차종_쏘나타          0.020485\n",
      "dtype: float64\n"
     ]
    }
   ],
   "source": [
    "ser = pd.Series(RF_clf.feature_importances_, index=feature_en.columns)\n",
    "\n",
    "# 내림차순 정렬을 이용한다\n",
    "top15 = ser.sort_values(ascending=False)[:15]\n",
    "print(top15)"
   ]
  },
  {
   "cell_type": "markdown",
   "metadata": {
    "id": "2xLnSnQKepMG"
   },
   "source": [
    "Xgboost"
   ]
  },
  {
   "cell_type": "code",
   "execution_count": null,
   "metadata": {
    "id": "0J7bfbVuc6Tk"
   },
   "outputs": [],
   "source": [
    "from xgboost import XGBClassifier\n",
    "\n",
    "xgb_sk = XGBClassifier(n_estimators=400, learning_rate=0.1, max_depth=3)\n",
    "xgb_sk.fit(X_train, Y_train)\n",
    "sk_pred = xgb_sk.predict(X_test)\n",
    "sk_pred_proba= xgb_sk.predict_proba(X_test)[:,1]"
   ]
  },
  {
   "cell_type": "code",
   "execution_count": null,
   "metadata": {
    "colab": {
     "base_uri": "https://localhost:8080/"
    },
    "id": "HFtEA1M1ewkQ",
    "outputId": "892ac54b-b2ea-4815-833d-deacbe032476"
   },
   "outputs": [
    {
     "name": "stdout",
     "output_type": "stream",
     "text": [
      "confusion matrix = \n",
      " [[76 20]\n",
      " [19 52]]\n",
      "accuracy =  0.7664670658682635\n",
      "precision =  0.7222222222222222\n",
      "recall =  0.7323943661971831\n",
      "f1 score =  0.7272727272727272\n",
      "roc auc score =  0.9077171361502347\n"
     ]
    }
   ],
   "source": [
    "from sklearn.metrics import confusion_matrix, accuracy_score, precision_score, recall_score, f1_score, roc_auc_score, auc\n",
    "\n",
    "\n",
    "print('confusion matrix = \\n', confusion_matrix(y_true=Y_test, y_pred=Y_pred))\n",
    "print('accuracy = ', accuracy_score(y_true=Y_test, y_pred=Y_pred))\n",
    "print('precision = ', precision_score(y_true=Y_test, y_pred=Y_pred))\n",
    "print('recall = ', recall_score(y_true=Y_test, y_pred=Y_pred))\n",
    "print('f1 score = ', f1_score(y_true=Y_test, y_pred=Y_pred))\n",
    "print('roc auc score = ', roc_auc_score(Y_test, sk_pred_proba))"
   ]
  },
  {
   "cell_type": "code",
   "execution_count": null,
   "metadata": {
    "colab": {
     "base_uri": "https://localhost:8080/",
     "height": 1000
    },
    "id": "Q25SzqtKe0K2",
    "outputId": "a2ad536a-4ed8-434b-8c2b-69da91ea0586"
   },
   "outputs": [
    {
     "name": "stdout",
     "output_type": "stream",
     "text": [
      "         Feature  Importance\n",
      "10          부채비율    0.091093\n",
      "15         명목GDP    0.076077\n",
      "68      차종_펠리세이드    0.065307\n",
      "29         차종_넥쏘    0.059834\n",
      "42  차종_아반떼 하이브리드    0.047849\n",
      "31       차종_벨로스터    0.047286\n",
      "5           유동비율    0.041860\n",
      "27        차종_그랜저    0.038506\n",
      "37        차종_쏘나타    0.033926\n",
      "12          현금비율    0.030393\n",
      "25        차종_i30    0.021747\n",
      "47  차종_아이오닉 일렉트릭    0.020207\n",
      "62         차종_코나    0.020111\n",
      "7          당기순이익    0.019681\n",
      "28  차종_그랜저 하이브리드    0.018976\n"
     ]
    },
    {
     "data": {
      "image/png": "[encoded data removed]",
      "text/plain": [
       "<Figure size 1000x1200 with 1 Axes>"
      ]
     },
     "metadata": {},
     "output_type": "display_data"
    }
   ],
   "source": [
    "# 피처 중요도 확인\n",
    "feature_importances = xgb_sk.feature_importances_\n",
    "\n",
    "# 피처 중요도를 데이터프레임에 저장 (예시로 X_train의 컬럼명을 사용)\n",
    "feature_importance_df = pd.DataFrame({'Feature': feature_en.columns, 'Importance': feature_importances})\n",
    "\n",
    "# 중요도 순으로 정렬\n",
    "feature_importance_df = feature_importance_df.sort_values(by='Importance', ascending=False)\n",
    "\n",
    "# 결과 출력\n",
    "print(feature_importance_df[:15])\n",
    "\n",
    "# 시각화 (예시로 상위 10개 피처만 표시)\n",
    "plt.figure(figsize=(10, 12))\n",
    "plt.barh(feature_importance_df['Feature'][:10], feature_importance_df['Importance'][:10])\n",
    "plt.xlabel('Feature Importance')\n",
    "plt.ylabel('Feature')\n",
    "plt.title('Top 10 Feature Importance')\n",
    "plt.show()"
   ]
  },
  {
   "cell_type": "markdown",
   "metadata": {
    "id": "q4MosAi3gvau"
   },
   "source": [
    "lighgbm"
   ]
  },
  {
   "cell_type": "code",
   "execution_count": null,
   "metadata": {
    "id": "A7LUnEqTfAMu"
   },
   "outputs": [],
   "source": [
    "from lightgbm import LGBMClassifier\n",
    "lgbm_wrapper = LGBMClassifier(n_estimators=400)\n",
    "evals = [(X_test, Y_test)]\n",
    "lgbm_wrapper.fit(X_train, Y_train, eval_metric='logloss', eval_set=evals)\n",
    "y_pred = lgbm_wrapper.predict(X_test)"
   ]
  },
  {
   "cell_type": "code",
   "execution_count": null,
   "metadata": {
    "colab": {
     "base_uri": "https://localhost:8080/"
    },
    "id": "ie_32KeFg6HJ",
    "outputId": "ef04e6e6-8ed1-49cc-b40e-a6fa76032807"
   },
   "outputs": [
    {
     "name": "stdout",
     "output_type": "stream",
     "text": [
      "confusion matrix = \n",
      " [[76 20]\n",
      " [19 52]]\n",
      "accuracy =  0.7664670658682635\n",
      "precision =  0.7222222222222222\n",
      "recall =  0.7323943661971831\n",
      "f1 score =  0.7272727272727272\n",
      "roc auc score =  0.9310446009389671\n"
     ]
    }
   ],
   "source": [
    "from sklearn.metrics import confusion_matrix, accuracy_score, precision_score, recall_score, f1_score, roc_auc_score, auc\n",
    "sk_pred_proba= lgbm_wrapper.predict_proba(X_test)[:,1]\n",
    "\n",
    "print('confusion matrix = \\n', confusion_matrix(y_true=Y_test, y_pred=Y_pred))\n",
    "print('accuracy = ', accuracy_score(y_true=Y_test, y_pred=Y_pred))\n",
    "print('precision = ', precision_score(y_true=Y_test, y_pred=Y_pred))\n",
    "print('recall = ', recall_score(y_true=Y_test, y_pred=Y_pred))\n",
    "print('f1 score = ', f1_score(y_true=Y_test, y_pred=Y_pred))\n",
    "print('roc auc score = ', roc_auc_score(Y_test, sk_pred_proba))"
   ]
  },
  {
   "cell_type": "code",
   "execution_count": null,
   "metadata": {
    "colab": {
     "base_uri": "https://localhost:8080/",
     "height": 1000
    },
    "id": "KgHJNsWdg-jc",
    "outputId": "14ed9eac-19e7-4549-d3a0-1b8c9afb0c9c"
   },
   "outputs": [
    {
     "name": "stdout",
     "output_type": "stream",
     "text": [
      "         Feature  Importance\n",
      "18            가격        2071\n",
      "17           판매량        1429\n",
      "22  차량별 영업이익 기여도        1193\n",
      "19           판매액         997\n",
      "23   차량별 판관비 기여도         840\n",
      "20   차량별 매출액 기여도         765\n",
      "21  차량별 매출원가 기여도         546\n",
      "10          부채비율         380\n",
      "14      부채총계대매출액         237\n",
      "5           유동비율         229\n",
      "15         명목GDP         213\n",
      "16        GDP성장률         205\n",
      "13         순운전자본         183\n",
      "9    세전이익대비_비용비율         170\n",
      "12          현금비율         160\n"
     ]
    },
    {
     "data": {
      "image/png": "[encoded data removed]",
      "text/plain": [
       "<Figure size 1000x1200 with 1 Axes>"
      ]
     },
     "metadata": {},
     "output_type": "display_data"
    }
   ],
   "source": [
    "# 피처 중요도 확인\n",
    "feature_importances = lgbm_wrapper.feature_importances_\n",
    "\n",
    "# 피처 중요도를 데이터프레임에 저장 (예시로 X_train의 컬럼명을 사용)\n",
    "feature_importance_df = pd.DataFrame({'Feature': feature_en.columns, 'Importance': feature_importances})\n",
    "\n",
    "# 중요도 순으로 정렬\n",
    "feature_importance_df = feature_importance_df.sort_values(by='Importance', ascending=False)\n",
    "\n",
    "# 결과 출력\n",
    "print(feature_importance_df[:15])\n",
    "\n",
    "# 시각화 (예시로 상위 10개 피처만 표시)\n",
    "plt.figure(figsize=(10, 12))\n",
    "plt.barh(feature_importance_df['Feature'][:10], feature_importance_df['Importance'][:10])\n",
    "plt.xlabel('Feature Importance')\n",
    "plt.ylabel('Feature')\n",
    "plt.title('Top 10 Feature Importance')\n",
    "plt.show()"
   ]
  },
  {
   "cell_type": "markdown",
   "metadata": {
    "id": "p29AAjhLFV7L"
   },
   "source": [
    "비재무 데이터만"
   ]
  },
  {
   "cell_type": "code",
   "execution_count": null,
   "metadata": {
    "id": "NtuiC2WAFXLf"
   },
   "outputs": [],
   "source": [
    "df2 = df[[ '자연증가건수(명)',\n",
    "       '사망자수(명)', '일반혼인율(남편)', '일반혼인율(아내)', '출생아수(명)', '합계출산율', '혼인건수(건)',\n",
    "       '기준금리', '20-29세 인구(명)', '20-29세 경제활동인구 (천명)', '20-29세 경제활동참가율 (%)',\n",
    "       '20-29세 고용률 (%)', '20-29세 비경제활동인구 (천명)', '20-29세 실업률 (%)',\n",
    "       '20-29세 실업자 (천명)', '20-29세 취업자 (천명)', '30-39세 인구(명)',\n",
    "       '30-39세 경제활동인구 (천명)', '30-39세 경제활동참가율 (%)', '30-39세 고용률 (%)',\n",
    "       '30-39세 비경제활동인구 (천명)', '30-39세 실업률 (%)', '30-39세 실업자 (천명)',\n",
    "       '30-39세 취업자 (천명)', '40-49세 인구(명)', '40-49세 경제활동인구 (천명)',\n",
    "       '40-49세 경제활동참가율 (%)', '40-49세 고용률 (%)', '40-49세 비경제활동인구 (천명)',\n",
    "       '40-49세 실업률 (%)', '40-49세 실업자 (천명)', '40-49세 취업자 (천명)', '50-59세 인구(명)',\n",
    "       '50-59세 경제활동인구 (천명)', '50-59세 경제활동참가율 (%)', '50-59세 고용률 (%)',\n",
    "       '50-59세 비경제활동인구 (천명)', '50-59세 실업률 (%)', '50-59세 실업자 (천명)',\n",
    "       '50-59세 취업자 (천명)', '60세이상 인구(명)', '60세이상 경제활동인구 (천명)',\n",
    "       '60세이상 경제활동참가율 (%)', '60세이상 고용률 (%)', '60세이상 비경제활동인구 (천명)',\n",
    "       '60세이상 실업률 (%)', '60세이상 실업자 (천명)', '60세이상 취업자 (천명)', '리뷰', '평점 평균',\n",
    "       '주행성능평균', '가격평균', '거주성평균', '품질평균', '디자인평균', '평균 연비', '공감평균', '비공감평균',\n",
    "       'positive평균', 'neutral평균', 'negative평균', 'target','차종']].copy()"
   ]
  },
  {
   "cell_type": "code",
   "execution_count": null,
   "metadata": {
    "id": "vjvDZe2zFZ7x"
   },
   "outputs": [],
   "source": [
    "target = df2['target']\n",
    "feature = df2.drop(['target','리뷰'],axis=1)#우선 필요없다고 판단되는 칼럼삭제, 마감일의 경우 다른 분석에는 필요할지 논의 필"
   ]
  },
  {
   "cell_type": "code",
   "execution_count": null,
   "metadata": {
    "id": "hXmWbZQ4Fwfd"
   },
   "outputs": [],
   "source": [
    "feature_en = pd.get_dummies(feature)"
   ]
  },
  {
   "cell_type": "code",
   "execution_count": null,
   "metadata": {
    "id": "d0CCGxh9F0qX"
   },
   "outputs": [],
   "source": [
    "import sklearn\n",
    "from sklearn.preprocessing import *\n",
    "\n",
    "feature_sc=StandardScaler().fit_transform(feature_en)"
   ]
  },
  {
   "cell_type": "code",
   "execution_count": null,
   "metadata": {
    "id": "LyglG71tF0s7"
   },
   "outputs": [],
   "source": [
    "from sklearn.model_selection import train_test_split\n",
    "X_train, X_test, Y_train, Y_test = train_test_split(feature_sc, target, test_size = 0.2, random_state = 0)"
   ]
  },
  {
   "cell_type": "code",
   "execution_count": null,
   "metadata": {
    "colab": {
     "base_uri": "https://localhost:8080/"
    },
    "id": "Y7aCshIiF0vY",
    "outputId": "97b77948-8a47-448f-dfae-9a4b325fef9c"
   },
   "outputs": [
    {
     "name": "stderr",
     "output_type": "stream",
     "text": [
      "/usr/local/lib/python3.10/dist-packages/sklearn/linear_model/_logistic.py:458: ConvergenceWarning: lbfgs failed to converge (status=1):\n",
      "STOP: TOTAL NO. of ITERATIONS REACHED LIMIT.\n",
      "\n",
      "Increase the number of iterations (max_iter) or scale the data as shown in:\n",
      "    https://scikit-learn.org/stable/modules/preprocessing.html\n",
      "Please also refer to the documentation for alternative solver options:\n",
      "    https://scikit-learn.org/stable/modules/linear_model.html#logistic-regression\n",
      "  n_iter_i = _check_optimize_result(\n"
     ]
    }
   ],
   "source": [
    "from sklearn.linear_model import LogisticRegression\n",
    "model = LogisticRegression()\n",
    "model.fit(X_train, Y_train)\n",
    "\n",
    "Y_pred = model.predict(X_test)"
   ]
  },
  {
   "cell_type": "code",
   "execution_count": null,
   "metadata": {
    "colab": {
     "base_uri": "https://localhost:8080/"
    },
    "id": "C7w8-KSwF0x6",
    "outputId": "309bc72e-021b-4cee-c3a5-a5b8c427e704"
   },
   "outputs": [
    {
     "name": "stdout",
     "output_type": "stream",
     "text": [
      "confusion matrix = \n",
      " [[80 16]\n",
      " [15 56]]\n",
      "accuracy =  0.8143712574850299\n",
      "precision =  0.7777777777777778\n",
      "recall =  0.7887323943661971\n",
      "f1 score =  0.7832167832167832\n",
      "roc auc score =  0.8950997652582159\n"
     ]
    }
   ],
   "source": [
    "from sklearn.metrics import confusion_matrix, accuracy_score, precision_score, recall_score, f1_score, roc_auc_score, auc\n",
    "score1 = model.predict_proba(X_test)[:, 1]\n",
    "\n",
    "print('confusion matrix = \\n', confusion_matrix(y_true=Y_test, y_pred=Y_pred))\n",
    "print('accuracy = ', accuracy_score(y_true=Y_test, y_pred=Y_pred))\n",
    "print('precision = ', precision_score(y_true=Y_test, y_pred=Y_pred))\n",
    "print('recall = ', recall_score(y_true=Y_test, y_pred=Y_pred))\n",
    "print('f1 score = ', f1_score(y_true=Y_test, y_pred=Y_pred))\n",
    "print('roc auc score = ', roc_auc_score(Y_test, score1))"
   ]
  },
  {
   "cell_type": "code",
   "execution_count": null,
   "metadata": {
    "colab": {
     "base_uri": "https://localhost:8080/"
    },
    "id": "5krLsDTiF00Q",
    "outputId": "4c4914ac-403b-4f5b-86d4-1fa1550e1828"
   },
   "outputs": [
    {
     "name": "stdout",
     "output_type": "stream",
     "text": [
      "자연증가건수(명): -0.9971413273011854\n",
      "사망자수(명): 2.082931875109186\n",
      "일반혼인율(남편): -0.09157950303848873\n",
      "일반혼인율(아내): -0.4591581757282502\n",
      "출생아수(명): -0.3927198138430717\n",
      "합계출산율: -0.6541566316891766\n",
      "혼인건수(건): -0.11233755093460629\n",
      "기준금리: 0.03935147493536655\n",
      "20-29세 인구(명): 0.10647880063128483\n",
      "20-29세 경제활동인구 (천명): 1.0957311403464098\n",
      "20-29세 경제활동참가율 (%): 0.7726791041356492\n",
      "20-29세 고용률 (%): 0.011491996178168146\n",
      "20-29세 비경제활동인구 (천명): -0.4797196687566028\n",
      "20-29세 실업률 (%): 0.6434266737546952\n",
      "20-29세 실업자 (천명): 0.4565539877991388\n"
     ]
    }
   ],
   "source": [
    "# Calculate the weights of each feature\n",
    "weights = model.coef_[0] * (X_train.max(axis=0) - X_train.min(axis=0)) / X_train.std(axis=0)\n",
    "\n",
    "# Sort the weights in descending order\n",
    "sorted_idx = weights.argsort()[::-1]\n",
    "for i in range(15):\n",
    "    print(f\"{feature_en.columns[i]}: {weights[i]}\")"
   ]
  },
  {
   "cell_type": "markdown",
   "metadata": {
    "id": "Iy2Yjn61GCKs"
   },
   "source": [
    "랜덤포레스트"
   ]
  },
  {
   "cell_type": "code",
   "execution_count": null,
   "metadata": {
    "id": "8PQaEpnSF02s"
   },
   "outputs": [],
   "source": [
    "from sklearn.ensemble import RandomForestClassifier\n",
    "RF_clf = RandomForestClassifier()\n",
    "RF_clf.fit(X_train, Y_train)\n",
    "Y_pred = RF_clf.predict(X_test)"
   ]
  },
  {
   "cell_type": "code",
   "execution_count": null,
   "metadata": {
    "colab": {
     "base_uri": "https://localhost:8080/"
    },
    "id": "ApcKgBhIF05E",
    "outputId": "d6e7ee93-e48c-4c75-df7e-97e8372ec1e0"
   },
   "outputs": [
    {
     "name": "stdout",
     "output_type": "stream",
     "text": [
      "confusion matrix = \n",
      " [[90  6]\n",
      " [11 60]]\n",
      "accuracy =  0.8982035928143712\n",
      "precision =  0.9090909090909091\n",
      "recall =  0.8450704225352113\n",
      "f1 score =  0.8759124087591241\n",
      "roc auc score =  0.9472564553990611\n"
     ]
    }
   ],
   "source": [
    "from sklearn.metrics import confusion_matrix, accuracy_score, precision_score, recall_score, f1_score, roc_auc_score, auc\n",
    "score1 = RF_clf.predict_proba(X_test)[:, 1]\n",
    "\n",
    "print('confusion matrix = \\n', confusion_matrix(y_true=Y_test, y_pred=Y_pred))\n",
    "print('accuracy = ', accuracy_score(y_true=Y_test, y_pred=Y_pred))\n",
    "print('precision = ', precision_score(y_true=Y_test, y_pred=Y_pred))\n",
    "print('recall = ', recall_score(y_true=Y_test, y_pred=Y_pred))\n",
    "print('f1 score = ', f1_score(y_true=Y_test, y_pred=Y_pred))\n",
    "print('roc auc score = ', roc_auc_score(Y_test, score1))"
   ]
  },
  {
   "cell_type": "code",
   "execution_count": null,
   "metadata": {
    "colab": {
     "base_uri": "https://localhost:8080/"
    },
    "id": "6SHeMvzkGH1F",
    "outputId": "af8df21a-cac3-41fd-f167-83cf30c52fdb"
   },
   "outputs": [
    {
     "name": "stdout",
     "output_type": "stream",
     "text": [
      "60세이상 경제활동인구 (천명)     0.034655\n",
      "negative평균            0.032633\n",
      "60세이상 비경제활동인구 (천명)    0.031797\n",
      "30-39세 인구(명)          0.030375\n",
      "가격평균                  0.029441\n",
      "60세이상 인구(명)           0.029079\n",
      "positive평균            0.028622\n",
      "60세이상 취업자 (천명)        0.026686\n",
      "차종_그랜저 하이브리드          0.026446\n",
      "차종_펠리세이드              0.025863\n",
      "공감평균                  0.025471\n",
      "주행성능평균                0.025054\n",
      "20-29세 실업자 (천명)       0.024944\n",
      "30-39세 경제활동인구 (천명)    0.024660\n",
      "품질평균                  0.024103\n",
      "dtype: float64\n"
     ]
    }
   ],
   "source": [
    "ser = pd.Series(RF_clf.feature_importances_, index=feature_en.columns)\n",
    "\n",
    "# 내림차순 정렬을 이용한다\n",
    "top15 = ser.sort_values(ascending=False)[:15]\n",
    "print(top15)"
   ]
  },
  {
   "cell_type": "markdown",
   "metadata": {
    "id": "fnAokanJGM8Y"
   },
   "source": [
    "xgboost"
   ]
  },
  {
   "cell_type": "code",
   "execution_count": null,
   "metadata": {
    "id": "9FwUYkA3GH3l"
   },
   "outputs": [],
   "source": [
    "from xgboost import XGBClassifier\n",
    "\n",
    "xgb_sk = XGBClassifier(n_estimators=400, learning_rate=0.1, max_depth=3)\n",
    "xgb_sk.fit(X_train, Y_train)\n",
    "sk_pred = xgb_sk.predict(X_test)\n",
    "sk_pred_proba= xgb_sk.predict_proba(X_test)[:,1]"
   ]
  },
  {
   "cell_type": "code",
   "execution_count": null,
   "metadata": {
    "colab": {
     "base_uri": "https://localhost:8080/"
    },
    "id": "bS-STZrOGH6M",
    "outputId": "5efd12a4-09f4-4448-b4dc-b77adbbea069"
   },
   "outputs": [
    {
     "name": "stdout",
     "output_type": "stream",
     "text": [
      "confusion matrix = \n",
      " [[90  6]\n",
      " [11 60]]\n",
      "accuracy =  0.8982035928143712\n",
      "precision =  0.9090909090909091\n",
      "recall =  0.8450704225352113\n",
      "f1 score =  0.8759124087591241\n",
      "roc auc score =  0.9460093896713615\n"
     ]
    }
   ],
   "source": [
    "from sklearn.metrics import confusion_matrix, accuracy_score, precision_score, recall_score, f1_score, roc_auc_score, auc\n",
    "\n",
    "\n",
    "print('confusion matrix = \\n', confusion_matrix(y_true=Y_test, y_pred=Y_pred))\n",
    "print('accuracy = ', accuracy_score(y_true=Y_test, y_pred=Y_pred))\n",
    "print('precision = ', precision_score(y_true=Y_test, y_pred=Y_pred))\n",
    "print('recall = ', recall_score(y_true=Y_test, y_pred=Y_pred))\n",
    "print('f1 score = ', f1_score(y_true=Y_test, y_pred=Y_pred))\n",
    "print('roc auc score = ', roc_auc_score(Y_test, sk_pred_proba))"
   ]
  },
  {
   "cell_type": "code",
   "execution_count": null,
   "metadata": {
    "colab": {
     "base_uri": "https://localhost:8080/",
     "height": 1000
    },
    "id": "Tbj5ZkWnGH84",
    "outputId": "ae2beb81-f8e4-432e-d53c-0cbddd5f7f3b"
   },
   "outputs": [
    {
     "name": "stdout",
     "output_type": "stream",
     "text": [
      "                Feature  Importance\n",
      "44   60세이상 비경제활동인구 (천명)    0.203296\n",
      "16         30-39세 인구(명)    0.083147\n",
      "65                차종_넥쏘    0.054870\n",
      "11       20-29세 고용률 (%)    0.048108\n",
      "38      50-59세 실업자 (천명)    0.034351\n",
      "67              차종_벨로스터    0.026654\n",
      "73               차종_쏘나타    0.026139\n",
      "57           positive평균    0.022947\n",
      "54                평균 연비    0.022233\n",
      "39      50-59세 취업자 (천명)    0.020421\n",
      "7                  기준금리    0.016478\n",
      "50                 가격평균    0.016068\n",
      "64         차종_그랜저 하이브리드    0.015718\n",
      "55                 공감평균    0.015077\n",
      "20  30-39세 비경제활동인구 (천명)    0.015064\n"
     ]
    },
    {
     "data": {
      "image/png": "[encoded data removed]",
      "text/plain": [
       "<Figure size 1000x1200 with 1 Axes>"
      ]
     },
     "metadata": {},
     "output_type": "display_data"
    }
   ],
   "source": [
    "# 피처 중요도 확인\n",
    "feature_importances = xgb_sk.feature_importances_\n",
    "\n",
    "# 피처 중요도를 데이터프레임에 저장 (예시로 X_train의 컬럼명을 사용)\n",
    "feature_importance_df = pd.DataFrame({'Feature': feature_en.columns, 'Importance': feature_importances})\n",
    "\n",
    "# 중요도 순으로 정렬\n",
    "feature_importance_df = feature_importance_df.sort_values(by='Importance', ascending=False)\n",
    "\n",
    "# 결과 출력\n",
    "print(feature_importance_df[:15])\n",
    "\n",
    "# 시각화 (예시로 상위 10개 피처만 표시)\n",
    "plt.figure(figsize=(10, 12))\n",
    "plt.barh(feature_importance_df['Feature'][:10], feature_importance_df['Importance'][:10])\n",
    "plt.xlabel('Feature Importance')\n",
    "plt.ylabel('Feature')\n",
    "plt.title('Top 10 Feature Importance')\n",
    "plt.show()"
   ]
  },
  {
   "cell_type": "markdown",
   "metadata": {
    "id": "ZA2jg9tTGH_J"
   },
   "source": [
    "lgbm"
   ]
  },
  {
   "cell_type": "code",
   "execution_count": null,
   "metadata": {
    "id": "bkvcvkniGIBv"
   },
   "outputs": [],
   "source": [
    "from lightgbm import LGBMClassifier\n",
    "lgbm_wrapper = LGBMClassifier(n_estimators=400)\n",
    "evals = [(X_test, Y_test)]\n",
    "lgbm_wrapper.fit(X_train, Y_train, eval_metric='logloss', eval_set=evals)\n",
    "y_pred = lgbm_wrapper.predict(X_test)"
   ]
  },
  {
   "cell_type": "code",
   "execution_count": null,
   "metadata": {
    "colab": {
     "base_uri": "https://localhost:8080/"
    },
    "id": "W0q6yLqUF07n",
    "outputId": "4ac9fa76-8793-45d2-f4d6-c2f2c852a82f"
   },
   "outputs": [
    {
     "name": "stdout",
     "output_type": "stream",
     "text": [
      "confusion matrix = \n",
      " [[90  6]\n",
      " [11 60]]\n",
      "accuracy =  0.8982035928143712\n",
      "precision =  0.9090909090909091\n",
      "recall =  0.8450704225352113\n",
      "f1 score =  0.8759124087591241\n",
      "roc auc score =  0.970730633802817\n"
     ]
    }
   ],
   "source": [
    "from sklearn.metrics import confusion_matrix, accuracy_score, precision_score, recall_score, f1_score, roc_auc_score, auc\n",
    "sk_pred_proba= lgbm_wrapper.predict_proba(X_test)[:,1]\n",
    "\n",
    "print('confusion matrix = \\n', confusion_matrix(y_true=Y_test, y_pred=Y_pred))\n",
    "print('accuracy = ', accuracy_score(y_true=Y_test, y_pred=Y_pred))\n",
    "print('precision = ', precision_score(y_true=Y_test, y_pred=Y_pred))\n",
    "print('recall = ', recall_score(y_true=Y_test, y_pred=Y_pred))\n",
    "print('f1 score = ', f1_score(y_true=Y_test, y_pred=Y_pred))\n",
    "print('roc auc score = ', roc_auc_score(Y_test, sk_pred_proba))"
   ]
  },
  {
   "cell_type": "code",
   "execution_count": null,
   "metadata": {
    "colab": {
     "base_uri": "https://localhost:8080/",
     "height": 1000
    },
    "id": "2Gn8XeEEF0-B",
    "outputId": "2d11a0c2-7f6e-4220-aed7-9cfd2513ac9a"
   },
   "outputs": [
    {
     "name": "stdout",
     "output_type": "stream",
     "text": [
      "                Feature  Importance\n",
      "0             자연증가건수(명)        1267\n",
      "1               사망자수(명)         644\n",
      "8          20-29세 인구(명)         499\n",
      "2             일반혼인율(남편)         485\n",
      "7                  기준금리         348\n",
      "16         30-39세 인구(명)         331\n",
      "9    20-29세 경제활동인구 (천명)         331\n",
      "64         차종_그랜저 하이브리드         240\n",
      "89          차종_제네시스 G80         219\n",
      "23      30-39세 취업자 (천명)         219\n",
      "12  20-29세 비경제활동인구 (천명)         198\n",
      "58            neutral평균         183\n",
      "24         40-49세 인구(명)         169\n",
      "54                평균 연비         166\n",
      "4               출생아수(명)         159\n"
     ]
    },
    {
     "data": {
      "image/png": "[encoded data removed]",
      "text/plain": [
       "<Figure size 1000x1200 with 1 Axes>"
      ]
     },
     "metadata": {},
     "output_type": "display_data"
    }
   ],
   "source": [
    "# 피처 중요도 확인\n",
    "feature_importances = lgbm_wrapper.feature_importances_\n",
    "\n",
    "# 피처 중요도를 데이터프레임에 저장 (예시로 X_train의 컬럼명을 사용)\n",
    "feature_importance_df = pd.DataFrame({'Feature': feature_en.columns, 'Importance': feature_importances})\n",
    "\n",
    "# 중요도 순으로 정렬\n",
    "feature_importance_df = feature_importance_df.sort_values(by='Importance', ascending=False)\n",
    "\n",
    "# 결과 출력\n",
    "print(feature_importance_df[:15])\n",
    "\n",
    "# 시각화 (예시로 상위 10개 피처만 표시)\n",
    "plt.figure(figsize=(10, 12))\n",
    "plt.barh(feature_importance_df['Feature'][:10], feature_importance_df['Importance'][:10])\n",
    "plt.xlabel('Feature Importance')\n",
    "plt.ylabel('Feature')\n",
    "plt.title('Top 10 Feature Importance')\n",
    "plt.show()"
   ]
  },
  {
   "cell_type": "markdown",
   "metadata": {
    "id": "Z0nlHiKKJeQB"
   },
   "source": [
    "재무데이터, 비재무 데이터 합"
   ]
  },
  {
   "cell_type": "code",
   "execution_count": null,
   "metadata": {
    "id": "EW6_ykkEF1A0"
   },
   "outputs": [],
   "source": [
    "target = df['target']\n",
    "feature = df.drop(['target','마감일','Model','리뷰','year','생산량(천대)', '내수(천대)', '수출(억불)',\n",
    "       '수입(억불)','대기기간'],axis=1)#우선 필요없다고 판단되는 칼럼삭제, 마감일의 경우 다른 분석에는 필요할지 논의 필"
   ]
  },
  {
   "cell_type": "code",
   "execution_count": null,
   "metadata": {
    "id": "d2fCJAwbKk1l"
   },
   "outputs": [],
   "source": [
    "feature['명목GDP'] = feature['명목GDP'].str.replace(',', '').astype(float)"
   ]
  },
  {
   "cell_type": "code",
   "execution_count": null,
   "metadata": {
    "id": "nNq4i5WtJk3Y"
   },
   "outputs": [],
   "source": [
    "feature_en = pd.get_dummies(feature)"
   ]
  },
  {
   "cell_type": "code",
   "execution_count": null,
   "metadata": {
    "id": "NF6eUn33J6Os"
   },
   "outputs": [],
   "source": [
    "import sklearn\n",
    "from sklearn.preprocessing import *\n",
    "\n",
    "feature_sc=StandardScaler().fit_transform(feature_en)"
   ]
  },
  {
   "cell_type": "code",
   "execution_count": null,
   "metadata": {
    "id": "DaEEp9RHJ6RI"
   },
   "outputs": [],
   "source": [
    "from sklearn.model_selection import train_test_split\n",
    "X_train, X_test, Y_train, Y_test = train_test_split(feature_sc, target, test_size = 0.2, random_state = 0)"
   ]
  },
  {
   "cell_type": "code",
   "execution_count": null,
   "metadata": {
    "colab": {
     "base_uri": "https://localhost:8080/"
    },
    "id": "zXlwVvbYJ6UB",
    "outputId": "f3fc7132-0bea-42fd-b303-a08e12aef0d1"
   },
   "outputs": [
    {
     "name": "stderr",
     "output_type": "stream",
     "text": [
      "/usr/local/lib/python3.10/dist-packages/sklearn/linear_model/_logistic.py:458: ConvergenceWarning: lbfgs failed to converge (status=1):\n",
      "STOP: TOTAL NO. of ITERATIONS REACHED LIMIT.\n",
      "\n",
      "Increase the number of iterations (max_iter) or scale the data as shown in:\n",
      "    https://scikit-learn.org/stable/modules/preprocessing.html\n",
      "Please also refer to the documentation for alternative solver options:\n",
      "    https://scikit-learn.org/stable/modules/linear_model.html#logistic-regression\n",
      "  n_iter_i = _check_optimize_result(\n"
     ]
    }
   ],
   "source": [
    "from sklearn.linear_model import LogisticRegression\n",
    "model = LogisticRegression()\n",
    "model.fit(X_train, Y_train)\n",
    "\n",
    "Y_pred = model.predict(X_test)"
   ]
  },
  {
   "cell_type": "code",
   "execution_count": null,
   "metadata": {
    "colab": {
     "base_uri": "https://localhost:8080/"
    },
    "id": "-r8Bqp8wJ6Wd",
    "outputId": "83ad86dc-c4d2-4ee9-a852-6f4382c5f60c"
   },
   "outputs": [
    {
     "name": "stdout",
     "output_type": "stream",
     "text": [
      "confusion matrix = \n",
      " [[78 18]\n",
      " [13 58]]\n",
      "accuracy =  0.8143712574850299\n",
      "precision =  0.7631578947368421\n",
      "recall =  0.8169014084507042\n",
      "f1 score =  0.7891156462585034\n",
      "roc auc score =  0.89231220657277\n"
     ]
    }
   ],
   "source": [
    "from sklearn.metrics import confusion_matrix, accuracy_score, precision_score, recall_score, f1_score, roc_auc_score, auc\n",
    "score1 = model.predict_proba(X_test)[:, 1]\n",
    "\n",
    "print('confusion matrix = \\n', confusion_matrix(y_true=Y_test, y_pred=Y_pred))\n",
    "print('accuracy = ', accuracy_score(y_true=Y_test, y_pred=Y_pred))\n",
    "print('precision = ', precision_score(y_true=Y_test, y_pred=Y_pred))\n",
    "print('recall = ', recall_score(y_true=Y_test, y_pred=Y_pred))\n",
    "print('f1 score = ', f1_score(y_true=Y_test, y_pred=Y_pred))\n",
    "print('roc auc score = ', roc_auc_score(Y_test, score1))"
   ]
  },
  {
   "cell_type": "code",
   "execution_count": null,
   "metadata": {
    "colab": {
     "base_uri": "https://localhost:8080/"
    },
    "id": "V1CaXdIzJ6Y9",
    "outputId": "b2cdf5ee-2046-44e3-c8d8-b2c95785f24e"
   },
   "outputs": [
    {
     "name": "stdout",
     "output_type": "stream",
     "text": [
      "매출액: -1.7511929904502792\n",
      "매출원가: -2.993318598734348\n",
      "판매비와관리비: 0.5631055252089107\n",
      "영업이익: 2.4315978869624675\n",
      "재고자산회전율: 0.16123220345630015\n",
      "유동비율: -0.4912811784537592\n",
      "당좌비율: -0.1074520616972361\n",
      "당기순이익: 0.40541481092283976\n",
      "수요예측지표: -1.1407592651174876\n",
      "세전이익대비_비용비율: -2.770585228975546\n",
      "부채비율: 0.9108133881830142\n",
      "자본회전율: 0.16123220345631015\n",
      "현금비율: -0.12849740602986\n",
      "순운전자본: -0.6348832511715884\n",
      "부채총계대매출액: -0.07997346659175397\n"
     ]
    }
   ],
   "source": [
    "# Calculate the weights of each feature\n",
    "weights = model.coef_[0] * (X_train.max(axis=0) - X_train.min(axis=0)) / X_train.std(axis=0)\n",
    "\n",
    "# Sort the weights in descending order\n",
    "sorted_idx = weights.argsort()[::-1]\n",
    "for i in range(15):\n",
    "    print(f\"{feature_en.columns[i]}: {weights[i]}\")"
   ]
  },
  {
   "cell_type": "code",
   "execution_count": null,
   "metadata": {
    "id": "SN4B0kMFJ6bK"
   },
   "outputs": [],
   "source": [
    "from sklearn.ensemble import RandomForestClassifier\n",
    "RF_clf = RandomForestClassifier()\n",
    "RF_clf.fit(X_train, Y_train)\n",
    "Y_pred = RF_clf.predict(X_test)"
   ]
  },
  {
   "cell_type": "code",
   "execution_count": null,
   "metadata": {
    "colab": {
     "base_uri": "https://localhost:8080/"
    },
    "id": "Rg1_Nu4tJ6dS",
    "outputId": "42b7b2ee-0947-4a25-b2e1-876628d61912"
   },
   "outputs": [
    {
     "name": "stdout",
     "output_type": "stream",
     "text": [
      "confusion matrix = \n",
      " [[87  9]\n",
      " [12 59]]\n",
      "accuracy =  0.874251497005988\n",
      "precision =  0.8676470588235294\n",
      "recall =  0.8309859154929577\n",
      "f1 score =  0.8489208633093526\n",
      "roc auc score =  0.9411678403755868\n"
     ]
    }
   ],
   "source": [
    "from sklearn.metrics import confusion_matrix, accuracy_score, precision_score, recall_score, f1_score, roc_auc_score, auc\n",
    "score1 = RF_clf.predict_proba(X_test)[:, 1]\n",
    "\n",
    "print('confusion matrix = \\n', confusion_matrix(y_true=Y_test, y_pred=Y_pred))\n",
    "print('accuracy = ', accuracy_score(y_true=Y_test, y_pred=Y_pred))\n",
    "print('precision = ', precision_score(y_true=Y_test, y_pred=Y_pred))\n",
    "print('recall = ', recall_score(y_true=Y_test, y_pred=Y_pred))\n",
    "print('f1 score = ', f1_score(y_true=Y_test, y_pred=Y_pred))\n",
    "print('roc auc score = ', roc_auc_score(Y_test, score1))"
   ]
  },
  {
   "cell_type": "code",
   "execution_count": null,
   "metadata": {
    "colab": {
     "base_uri": "https://localhost:8080/"
    },
    "id": "XHC-B1FuKM9x",
    "outputId": "4bf2f494-efaf-4b52-a818-8441da01ce76"
   },
   "outputs": [
    {
     "name": "stdout",
     "output_type": "stream",
     "text": [
      "30-39세 인구(명)          0.048798\n",
      "부채비율                  0.037504\n",
      "가격                    0.034972\n",
      "판매량                   0.032872\n",
      "차량별 매출액 기여도           0.031956\n",
      "차량별 판관비 기여도           0.031811\n",
      "판매액                   0.030449\n",
      "차량별 매출원가 기여도          0.030350\n",
      "60세이상 비경제활동인구 (천명)    0.029435\n",
      "차량별 영업이익 기여도          0.028277\n",
      "negative평균            0.023347\n",
      "positive평균            0.022663\n",
      "가격평균                  0.020519\n",
      "평균 연비                 0.020506\n",
      "공감평균                  0.020268\n",
      "dtype: float64\n"
     ]
    }
   ],
   "source": [
    "ser = pd.Series(RF_clf.feature_importances_, index=feature_en.columns)\n",
    "\n",
    "# 내림차순 정렬을 이용한다\n",
    "top15 = ser.sort_values(ascending=False)[:15]\n",
    "print(top15)"
   ]
  },
  {
   "cell_type": "code",
   "execution_count": null,
   "metadata": {
    "id": "WrdNvPtNKNAv"
   },
   "outputs": [],
   "source": [
    "from xgboost import XGBClassifier\n",
    "\n",
    "xgb_sk = XGBClassifier(n_estimators=400, learning_rate=0.1, max_depth=3)\n",
    "xgb_sk.fit(X_train, Y_train)\n",
    "sk_pred = xgb_sk.predict(X_test)\n",
    "sk_pred_proba= xgb_sk.predict_proba(X_test)[:,1]"
   ]
  },
  {
   "cell_type": "code",
   "execution_count": null,
   "metadata": {
    "colab": {
     "base_uri": "https://localhost:8080/"
    },
    "id": "TQDjpkfCKNDH",
    "outputId": "89bb2ba8-a687-4757-ea56-fcb61de053e6"
   },
   "outputs": [
    {
     "name": "stdout",
     "output_type": "stream",
     "text": [
      "confusion matrix = \n",
      " [[87  9]\n",
      " [12 59]]\n",
      "accuracy =  0.874251497005988\n",
      "precision =  0.8676470588235294\n",
      "recall =  0.8309859154929577\n",
      "f1 score =  0.8489208633093526\n",
      "roc auc score =  0.9308978873239435\n"
     ]
    }
   ],
   "source": [
    "from sklearn.metrics import confusion_matrix, accuracy_score, precision_score, recall_score, f1_score, roc_auc_score, auc\n",
    "\n",
    "\n",
    "print('confusion matrix = \\n', confusion_matrix(y_true=Y_test, y_pred=Y_pred))\n",
    "print('accuracy = ', accuracy_score(y_true=Y_test, y_pred=Y_pred))\n",
    "print('precision = ', precision_score(y_true=Y_test, y_pred=Y_pred))\n",
    "print('recall = ', recall_score(y_true=Y_test, y_pred=Y_pred))\n",
    "print('f1 score = ', f1_score(y_true=Y_test, y_pred=Y_pred))\n",
    "print('roc auc score = ', roc_auc_score(Y_test, sk_pred_proba))"
   ]
  },
  {
   "cell_type": "code",
   "execution_count": null,
   "metadata": {
    "colab": {
     "base_uri": "https://localhost:8080/",
     "height": 1000
    },
    "id": "mRIV7lqUKNFV",
    "outputId": "8c7bc804-9897-4bc4-a2a0-ff8f8bcb60bb"
   },
   "outputs": [
    {
     "name": "stdout",
     "output_type": "stream",
     "text": [
      "               Feature  Importance\n",
      "10                부채비율    0.073034\n",
      "15               명목GDP    0.064170\n",
      "5                 유동비율    0.063245\n",
      "17                  분기    0.051261\n",
      "90               차종_넥쏘    0.028632\n",
      "62      50-59세 실업률 (%)    0.026231\n",
      "92             차종_벨로스터    0.025661\n",
      "82          positive평균    0.021200\n",
      "16              GDP성장률    0.021148\n",
      "77                품질평균    0.020168\n",
      "73               평점 평균    0.019491\n",
      "43  30-39세 경제활동참가율 (%)    0.019480\n",
      "79               평균 연비    0.019012\n",
      "83           neutral평균    0.018722\n",
      "75                가격평균    0.015278\n"
     ]
    },
    {
     "data": {
      "image/png": "[encoded data removed]",
      "text/plain": [
       "<Figure size 1000x1200 with 1 Axes>"
      ]
     },
     "metadata": {},
     "output_type": "display_data"
    }
   ],
   "source": [
    "# 피처 중요도 확인\n",
    "feature_importances = xgb_sk.feature_importances_\n",
    "\n",
    "# 피처 중요도를 데이터프레임에 저장 (예시로 X_train의 컬럼명을 사용)\n",
    "feature_importance_df = pd.DataFrame({'Feature': feature_en.columns, 'Importance': feature_importances})\n",
    "\n",
    "# 중요도 순으로 정렬\n",
    "feature_importance_df = feature_importance_df.sort_values(by='Importance', ascending=False)\n",
    "\n",
    "# 결과 출력\n",
    "print(feature_importance_df[:15])\n",
    "\n",
    "# 시각화 (예시로 상위 10개 피처만 표시)\n",
    "plt.figure(figsize=(10, 12))\n",
    "plt.barh(feature_importance_df['Feature'][:10], feature_importance_df['Importance'][:10])\n",
    "plt.xlabel('Feature Importance')\n",
    "plt.ylabel('Feature')\n",
    "plt.title('Top 10 Feature Importance')\n",
    "plt.show()"
   ]
  },
  {
   "cell_type": "code",
   "execution_count": null,
   "metadata": {
    "id": "_5g8JBkeKNId"
   },
   "outputs": [],
   "source": [
    "from lightgbm import LGBMClassifier\n",
    "lgbm_wrapper = LGBMClassifier(n_estimators=400)\n",
    "evals = [(X_test, Y_test)]\n",
    "lgbm_wrapper.fit(X_train, Y_train, eval_metric='logloss', eval_set=evals)\n",
    "y_pred = lgbm_wrapper.predict(X_test)"
   ]
  },
  {
   "cell_type": "code",
   "execution_count": null,
   "metadata": {
    "colab": {
     "base_uri": "https://localhost:8080/"
    },
    "id": "j1IPK1eJKYAg",
    "outputId": "62b486d9-4dcd-49a8-db13-cf01e1e499f9"
   },
   "outputs": [
    {
     "name": "stdout",
     "output_type": "stream",
     "text": [
      "confusion matrix = \n",
      " [[87  9]\n",
      " [12 59]]\n",
      "accuracy =  0.874251497005988\n",
      "precision =  0.8676470588235294\n",
      "recall =  0.8309859154929577\n",
      "f1 score =  0.8489208633093526\n",
      "roc auc score =  0.9678697183098591\n"
     ]
    }
   ],
   "source": [
    "from sklearn.metrics import confusion_matrix, accuracy_score, precision_score, recall_score, f1_score, roc_auc_score, auc\n",
    "sk_pred_proba= lgbm_wrapper.predict_proba(X_test)[:,1]\n",
    "\n",
    "print('confusion matrix = \\n', confusion_matrix(y_true=Y_test, y_pred=Y_pred))\n",
    "print('accuracy = ', accuracy_score(y_true=Y_test, y_pred=Y_pred))\n",
    "print('precision = ', precision_score(y_true=Y_test, y_pred=Y_pred))\n",
    "print('recall = ', recall_score(y_true=Y_test, y_pred=Y_pred))\n",
    "print('f1 score = ', f1_score(y_true=Y_test, y_pred=Y_pred))\n",
    "print('roc auc score = ', roc_auc_score(Y_test, sk_pred_proba))"
   ]
  },
  {
   "cell_type": "code",
   "execution_count": null,
   "metadata": {
    "colab": {
     "base_uri": "https://localhost:8080/",
     "height": 1000
    },
    "id": "UkDk8FWlKYFC",
    "outputId": "a7a453ec-8bbb-44fc-fba4-d54443237dcb"
   },
   "outputs": [
    {
     "name": "stdout",
     "output_type": "stream",
     "text": [
      "         Feature  Importance\n",
      "19            가격        1007\n",
      "18           판매량         799\n",
      "23  차량별 영업이익 기여도         794\n",
      "20           판매액         762\n",
      "21   차량별 매출액 기여도         595\n",
      "24   차량별 판관비 기여도         549\n",
      "22  차량별 매출원가 기여도         330\n",
      "75          가격평균         267\n",
      "10          부채비율         212\n",
      "84    negative평균         191\n",
      "79         평균 연비         171\n",
      "74        주행성능평균         150\n",
      "83     neutral평균         146\n",
      "33  20-29세 인구(명)         138\n",
      "14      부채총계대매출액         125\n"
     ]
    },
    {
     "data": {
      "image/png": "[encoded data removed]",
      "text/plain": [
       "<Figure size 1000x1200 with 1 Axes>"
      ]
     },
     "metadata": {},
     "output_type": "display_data"
    }
   ],
   "source": [
    "# 피처 중요도 확인\n",
    "feature_importances = lgbm_wrapper.feature_importances_\n",
    "\n",
    "# 피처 중요도를 데이터프레임에 저장 (예시로 X_train의 컬럼명을 사용)\n",
    "feature_importance_df = pd.DataFrame({'Feature': feature_en.columns, 'Importance': feature_importances})\n",
    "\n",
    "# 중요도 순으로 정렬\n",
    "feature_importance_df = feature_importance_df.sort_values(by='Importance', ascending=False)\n",
    "\n",
    "# 결과 출력\n",
    "print(feature_importance_df[:15])\n",
    "\n",
    "# 시각화 (예시로 상위 10개 피처만 표시)\n",
    "plt.figure(figsize=(10, 12))\n",
    "plt.barh(feature_importance_df['Feature'][:10], feature_importance_df['Importance'][:10])\n",
    "plt.xlabel('Feature Importance')\n",
    "plt.ylabel('Feature')\n",
    "plt.title('Top 10 Feature Importance')\n",
    "plt.show()"
   ]
  },
  {
   "cell_type": "code",
   "execution_count": null,
   "metadata": {
    "id": "czWBjZ-2KYHk"
   },
   "outputs": [],
   "source": []
  }
 ],
 "metadata": {
  "colab": {
   "provenance": []
  },
  "kernelspec": {
   "display_name": "Python 3 (ipykernel)",
   "language": "python",
   "name": "python3"
  },
  "language_info": {
   "codemirror_mode": {
    "name": "ipython",
    "version": 3
   },
   "file_extension": ".py",
   "mimetype": "text/x-python",
   "name": "python",
   "nbconvert_exporter": "python",
   "pygments_lexer": "ipython3",
   "version": "3.11.3"
  }
 },
 "nbformat": 4,
 "nbformat_minor": 1
}
